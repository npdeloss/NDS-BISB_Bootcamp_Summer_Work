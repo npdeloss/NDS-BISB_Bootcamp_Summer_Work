{
 "cells": [
  {
   "cell_type": "markdown",
   "metadata": {},
   "source": [
    "# Counting DNA Nucleotides\n",
    "**Given:** A DNA string *s* of length at most 1000 nt.\n",
    "\n",
    "**Return:** Four integers (separated by spaces) counting the respective number of times that the symbols 'A', 'C', 'G', and 'T' occur in *s*."
   ]
  },
  {
   "cell_type": "markdown",
   "metadata": {},
   "source": [
    "# Sample Dataset"
   ]
  },
  {
   "cell_type": "code",
   "execution_count": 1,
   "metadata": {
    "collapsed": false
   },
   "outputs": [
    {
     "name": "stdout",
     "output_type": "stream",
     "text": [
      "Overwriting Sample_Dataset.txt\n"
     ]
    }
   ],
   "source": [
    "%%file Sample_Dataset.txt\n",
    "AGCTTTTCATTCTGACTGCAACGGGCAATATGTCTCTGTGTGGATTAAAAAAAGAGTGTCTGATAGCAGC\n",
    "\n"
   ]
  },
  {
   "cell_type": "markdown",
   "metadata": {},
   "source": [
    "# Sample Output"
   ]
  },
  {
   "cell_type": "code",
   "execution_count": 2,
   "metadata": {
    "collapsed": false
   },
   "outputs": [
    {
     "name": "stdout",
     "output_type": "stream",
     "text": [
      "Overwriting Sample_Output.txt\n"
     ]
    }
   ],
   "source": [
    "%%file Sample_Output.txt\n",
    "20 12 17 21\n",
    "\n"
   ]
  },
  {
   "cell_type": "markdown",
   "metadata": {},
   "source": [
    "# Solution"
   ]
  },
  {
   "cell_type": "code",
   "execution_count": 3,
   "metadata": {
    "collapsed": true
   },
   "outputs": [],
   "source": [
    "def countDNANucleotides(input_string):\n",
    "    \"Given a DNA string s of length at most 1000 nt, return Four integers (separated by spaces) counting the respective number of times that the symbols 'A', 'C', 'G', and 'T' occur in s.\"\n",
    "    \n",
    "    count_of_A = input_string.count('A')\n",
    "    count_of_C = input_string.count('C')\n",
    "    count_of_G = input_string.count('G')\n",
    "    count_of_T = input_string.count('T')\n",
    "    output_string = \"%d %d %d %d\" % (count_of_A, count_of_C, count_of_G, count_of_T)\n",
    "    \n",
    "    return output_string\n",
    "\n",
    "def countDNANucleotidesFromFileToFile(input_file_path, output_file_path):\n",
    "    \"Wraps countDNANucleotides to read from input_file_path and write to output_file_path\"\n",
    "    \n",
    "    input_file = open(input_file_path,'r')\n",
    "    output_file = open(output_file_path,'w')\n",
    "    \n",
    "    input_string = input_file.read().strip()\n",
    "    output_string = countDNANucleotides(input_string)\n",
    "    \n",
    "    output_file.write(\"%s\\n\" % output_string)\n",
    "    \n",
    "    input_file.close()\n",
    "    output_file.close()\n",
    "    \n",
    "    return\n"
   ]
  },
  {
   "cell_type": "markdown",
   "metadata": {},
   "source": [
    "# Test Solution"
   ]
  },
  {
   "cell_type": "code",
   "execution_count": 4,
   "metadata": {
    "collapsed": false
   },
   "outputs": [],
   "source": [
    "countDNANucleotidesFromFileToFile(\"Sample_Dataset.txt\", \"Test_Output.txt\")"
   ]
  },
  {
   "cell_type": "code",
   "execution_count": 5,
   "metadata": {
    "collapsed": false
   },
   "outputs": [
    {
     "name": "stdout",
     "output_type": "stream",
     "text": [
      "Sample_Output.txt\n",
      "fc479ba7dbf64923bd67ab9fa5abd54b  Sample_Output.txt\n",
      "20 12 17 21\n"
     ]
    }
   ],
   "source": [
    "%%bash\n",
    "echo Sample_Output.txt\n",
    "md5sum Sample_Output.txt\n",
    "cat Sample_Output.txt"
   ]
  },
  {
   "cell_type": "code",
   "execution_count": 6,
   "metadata": {
    "collapsed": false
   },
   "outputs": [
    {
     "name": "stdout",
     "output_type": "stream",
     "text": [
      "Test_Output.txt\n",
      "fc479ba7dbf64923bd67ab9fa5abd54b  Test_Output.txt\n",
      "20 12 17 21\n"
     ]
    }
   ],
   "source": [
    "%%bash\n",
    "echo Test_Output.txt\n",
    "md5sum Test_Output.txt\n",
    "cat Test_Output.txt"
   ]
  },
  {
   "cell_type": "code",
   "execution_count": 7,
   "metadata": {
    "collapsed": false
   },
   "outputs": [
    {
     "name": "stdout",
     "output_type": "stream",
     "text": [
      "Sample output matches test output.\n"
     ]
    }
   ],
   "source": [
    "%%bash\n",
    "if [ $(md5sum Sample_Output.txt|cut -f1 -d' ') == $(md5sum Test_Output.txt|cut -f1 -d' ') ]\n",
    "then\n",
    "    echo Sample output matches test output.\n",
    "else\n",
    "    echo Sample output does not Match test output.\n",
    "fi"
   ]
  },
  {
   "cell_type": "markdown",
   "metadata": {},
   "source": [
    "# Downloaded Dataset"
   ]
  },
  {
   "cell_type": "code",
   "execution_count": 8,
   "metadata": {
    "collapsed": false
   },
   "outputs": [
    {
     "name": "stdout",
     "output_type": "stream",
     "text": [
      "CACTTCACATAAATTGCTTTTTGTGGTGTACTGATACTGAGACTCGCAGGGCTTAACATTGCATACCGTAATAGCCCAGTTACCGGTGACCTCTACTCGTCCTATGCACCCGTGCATTTTGTTACGGACTGCAAAAAGAGAGTATTTTCCGTGCGAAGTCCGCTTTCAGATGTGTTGAATGGAATGTTTCCCTGAATGCAGACGAGAGGAGAGTTCGCTCGTCGCACAACTTCGAAGCAGTTACTTCAGTTTGCTTGATCGTTTTAAAACTATTTCTCTCGACTGCAGAACAAGATGTTTTTATGACGTATGGGGTACGGATTAATCTTCGAAACGTACGTCATCCCATCGTTGTATCATATACTCACAGTCTCATCACTTAATTGTTTTCTGGATCTGGGTCCTGCAGGCATAGGGCTCAATAATCGTGCAACAGAATCCTTAGCTTGCCCGCGATTTGGCGCGTATTAGCAGACTCTAAGACCACGCCTCTAAATCTCCGATACGGGAGAAATATTAGATTGAATGACTCAGGAAGATCAATACCAGGGACCCGGGCTCGTTTTCTTACTTCAAACACAGCCACCTTGTGTGCCAGGTTGCGATGATCTGAGGGCAATTATTTATCGTGCGCATCAGTGCCCGTTAACGTAGAAGATAGTGACTGCCCAATGGGTAACTTCCTACAGTAACTCCGCTACCGCTTCAGAAAGCGGGCTATGCAAGTCCAGGCACCTCCTTGCCTTCTGTGTGCGTTAATGATTTGCGGCTTTGGTGAGGGTAGCGGATGGAGTTCAGCATACATTTACCTCTCAATGGTCCAGGCTATACTTCGGTCCGGGCAATATGTGTCACGCCATAGACATTCTAGCAGAGTAACAAAGAGC\n"
     ]
    }
   ],
   "source": [
    "%%bash\n",
    "#cp ~/Downloads/rosalind_dna.txt ./\n",
    "cat rosalind_dna.txt"
   ]
  },
  {
   "cell_type": "markdown",
   "metadata": {},
   "source": [
    "# Solution to Downloaded Dataset"
   ]
  },
  {
   "cell_type": "code",
   "execution_count": 9,
   "metadata": {
    "collapsed": false
   },
   "outputs": [],
   "source": [
    "countDNANucleotidesFromFileToFile(\"rosalind_dna.txt\", \"Solution_Output.txt\")"
   ]
  },
  {
   "cell_type": "code",
   "execution_count": 10,
   "metadata": {
    "collapsed": false
   },
   "outputs": [
    {
     "name": "stdout",
     "output_type": "stream",
     "text": [
      "221 208 205 253\n"
     ]
    }
   ],
   "source": [
    "%%bash\n",
    "cat Solution_Output.txt"
   ]
  }
 ],
 "metadata": {
  "kernelspec": {
   "display_name": "Python 3",
   "language": "python",
   "name": "python3"
  },
  "language_info": {
   "codemirror_mode": {
    "name": "ipython",
    "version": 3
   },
   "file_extension": ".py",
   "mimetype": "text/x-python",
   "name": "python",
   "nbconvert_exporter": "python",
   "pygments_lexer": "ipython3",
   "version": "3.5.2"
  }
 },
 "nbformat": 4,
 "nbformat_minor": 1
}
