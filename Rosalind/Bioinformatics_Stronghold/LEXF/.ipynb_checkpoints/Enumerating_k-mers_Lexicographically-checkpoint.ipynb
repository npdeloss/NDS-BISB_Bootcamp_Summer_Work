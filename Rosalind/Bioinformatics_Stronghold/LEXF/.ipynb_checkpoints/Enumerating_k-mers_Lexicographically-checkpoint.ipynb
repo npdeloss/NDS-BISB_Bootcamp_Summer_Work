{
 "cells": [
  {
   "cell_type": "markdown",
   "metadata": {},
   "source": [
    "# Enumerating k-mers ~~Lexicographically~~ Alphabetically\n",
    "**Given:** A collection of at most 10 symbols defining an ordered alphabet, and a positive integer *n* (*n*<=10).\n",
    "\n",
    "**Return:** All strings of length *n* that can be formed from the alphabet, ordered ~~lexicographically~~ alphabetically.\n",
    "\n"
   ]
  },
  {
   "cell_type": "markdown",
   "metadata": {},
   "source": [
    "# Sample Dataset"
   ]
  },
  {
   "cell_type": "code",
   "execution_count": 1,
   "metadata": {
    "collapsed": false
   },
   "outputs": [
    {
     "name": "stdout",
     "output_type": "stream",
     "text": [
      "Overwriting Sample_Dataset.txt\n"
     ]
    }
   ],
   "source": [
    "%%file Sample_Dataset.txt\n",
    "T A G C\n",
    "2\n",
    "\n"
   ]
  },
  {
   "cell_type": "markdown",
   "metadata": {},
   "source": [
    "# Sample Output"
   ]
  },
  {
   "cell_type": "code",
   "execution_count": 2,
   "metadata": {
    "collapsed": false
   },
   "outputs": [
    {
     "name": "stdout",
     "output_type": "stream",
     "text": [
      "Overwriting Sample_Output.txt\n"
     ]
    }
   ],
   "source": [
    "%%file Sample_Output.txt\n",
    "TT\n",
    "TA\n",
    "TG\n",
    "TC\n",
    "AT\n",
    "AA\n",
    "AG\n",
    "AC\n",
    "GT\n",
    "GA\n",
    "GG\n",
    "GC\n",
    "CT\n",
    "CA\n",
    "CG\n",
    "CC\n",
    "\n"
   ]
  },
  {
   "cell_type": "markdown",
   "metadata": {},
   "source": [
    "# Solution"
   ]
  },
  {
   "cell_type": "code",
   "execution_count": 3,
   "metadata": {
    "collapsed": false
   },
   "outputs": [
    {
     "data": {
      "text/plain": [
       "['AA',\n",
       " 'AC',\n",
       " 'AG',\n",
       " 'AT',\n",
       " 'CA',\n",
       " 'CC',\n",
       " 'CG',\n",
       " 'CT',\n",
       " 'GA',\n",
       " 'GC',\n",
       " 'GG',\n",
       " 'GT',\n",
       " 'TA',\n",
       " 'TC',\n",
       " 'TG',\n",
       " 'TT']"
      ]
     },
     "execution_count": 3,
     "metadata": {},
     "output_type": "execute_result"
    }
   ],
   "source": [
    "import itertools\n",
    "symbols_string = \"T A G C\"\n",
    "symbols = symbols_string.split()\n",
    "n = 2\n",
    "kmers = list(itertools.product(symbols, repeat = n))\n",
    "kmers_as_strings = [\"\".join(map(str,kmer)) for kmer in kmers]\n",
    "#print(\"\\n\".join(kmers_as_strings))\n",
    "kmers_as_strings.sort()\n",
    "kmers_as_strings"
   ]
  },
  {
   "cell_type": "code",
   "execution_count": 4,
   "metadata": {
    "collapsed": false
   },
   "outputs": [],
   "source": [
    "import itertools\n",
    "def enumerateKmers(symbols, n):\n",
    "    \"Given a collection of at most 10 symbols defining an ordered alphabet, and a positive integer n (n<=10), return all strings of length n that can be formed from the alphabet, ordered lexicographically.\"\n",
    "    \n",
    "    kmers = list(itertools.product(symbols, repeat = n))\n",
    "    kmers_as_strings = [\"\".join(map(str,kmer)) for kmer in kmers]\n",
    "    \n",
    "    return kmers_as_strings\n",
    "\n",
    "def enumerateKmersFromFileToFile(input_file_path, output_file_path):\n",
    "    \"Wraps enumerateGeneOrders to read from input_file_path and write to output_file_path\"\n",
    "    \n",
    "    input_file = open(input_file_path,'r')\n",
    "    output_file = open(output_file_path,'w')\n",
    "    \n",
    "    input_lines = input_file.readlines()\n",
    "    symbols = input_lines[0].strip().split()\n",
    "    n = int(input_lines[1].strip())\n",
    "    \n",
    "    kmers_as_strings = enumerateKmers(symbols, n)\n",
    "    \n",
    "    #Alphabetically, not lexicographically, despite what Rosalind says as of August 29, 2016\n",
    "    kmers_as_strings.sort()\n",
    "    kmers_as_string = \"\\n\".join(kmers_as_strings)\n",
    "    \n",
    "    output_file.write(\"%s\\n\" % kmers_as_string)\n",
    "    \n",
    "    \n",
    "    input_file.close()\n",
    "    output_file.close()\n",
    "    \n",
    "    return\n"
   ]
  },
  {
   "cell_type": "markdown",
   "metadata": {},
   "source": [
    "# Test Solution"
   ]
  },
  {
   "cell_type": "code",
   "execution_count": 5,
   "metadata": {
    "collapsed": false
   },
   "outputs": [],
   "source": [
    "enumerateKmersFromFileToFile(\"Sample_Dataset.txt\", \"Test_Output.txt\")"
   ]
  },
  {
   "cell_type": "code",
   "execution_count": 6,
   "metadata": {
    "collapsed": false
   },
   "outputs": [
    {
     "name": "stdout",
     "output_type": "stream",
     "text": [
      "Sample_Output.txt\n",
      "2b060f4920e3ae20ff3c8c998ed48583  /dev/fd/63\n",
      "AA\n",
      "AC\n",
      "AG\n",
      "AT\n",
      "CA\n",
      "CC\n",
      "CG\n",
      "CT\n",
      "GA\n",
      "GC\n",
      "GG\n",
      "GT\n",
      "TA\n",
      "TC\n",
      "TG\n",
      "TT\n"
     ]
    }
   ],
   "source": [
    "%%bash\n",
    "echo Sample_Output.txt\n",
    "md5sum <(sort Sample_Output.txt)\n",
    "cat Sample_Output.txt|sort"
   ]
  },
  {
   "cell_type": "code",
   "execution_count": 7,
   "metadata": {
    "collapsed": false
   },
   "outputs": [
    {
     "name": "stdout",
     "output_type": "stream",
     "text": [
      "Test_Output.txt\n",
      "2b060f4920e3ae20ff3c8c998ed48583  /dev/fd/63\n",
      "AA\n",
      "AC\n",
      "AG\n",
      "AT\n",
      "CA\n",
      "CC\n",
      "CG\n",
      "CT\n",
      "GA\n",
      "GC\n",
      "GG\n",
      "GT\n",
      "TA\n",
      "TC\n",
      "TG\n",
      "TT\n"
     ]
    }
   ],
   "source": [
    "%%bash\n",
    "echo Test_Output.txt\n",
    "md5sum <(sort Test_Output.txt)\n",
    "cat Test_Output.txt"
   ]
  },
  {
   "cell_type": "code",
   "execution_count": 8,
   "metadata": {
    "collapsed": false
   },
   "outputs": [
    {
     "name": "stdout",
     "output_type": "stream",
     "text": [
      "Sample output matches test output.\n"
     ]
    }
   ],
   "source": [
    "%%bash\n",
    "if [ $(md5sum <(sort Sample_Output.txt)|cut -f1 -d' ') == $(md5sum <(sort Test_Output.txt)|cut -f1 -d' ') ]\n",
    "then\n",
    "    echo Sample output matches test output.\n",
    "else\n",
    "    echo Sample output does not Match test output.\n",
    "fi"
   ]
  },
  {
   "cell_type": "markdown",
   "metadata": {},
   "source": [
    "# Downloaded Dataset"
   ]
  },
  {
   "cell_type": "code",
   "execution_count": 9,
   "metadata": {
    "collapsed": false
   },
   "outputs": [
    {
     "name": "stdout",
     "output_type": "stream",
     "text": [
      "S D Z V\n",
      "4\n"
     ]
    }
   ],
   "source": [
    "%%bash\n",
    "cp ~/Downloads/rosalind_lexf.txt ./\n",
    "cat rosalind_lexf.txt"
   ]
  },
  {
   "cell_type": "markdown",
   "metadata": {},
   "source": [
    "# Solution to Downloaded Dataset"
   ]
  },
  {
   "cell_type": "code",
   "execution_count": 10,
   "metadata": {
    "collapsed": false
   },
   "outputs": [],
   "source": [
    "enumerateKmersFromFileToFile(\"rosalind_lexf.txt\", \"Solution_Output.txt\")"
   ]
  },
  {
   "cell_type": "code",
   "execution_count": 11,
   "metadata": {
    "collapsed": false
   },
   "outputs": [
    {
     "name": "stdout",
     "output_type": "stream",
     "text": [
      "DDDD\n",
      "DDDS\n",
      "DDDV\n",
      "DDDZ\n",
      "DDSD\n",
      "DDSS\n",
      "DDSV\n",
      "DDSZ\n",
      "DDVD\n",
      "DDVS\n",
      "DDVV\n",
      "DDVZ\n",
      "DDZD\n",
      "DDZS\n",
      "DDZV\n",
      "DDZZ\n",
      "DSDD\n",
      "DSDS\n",
      "DSDV\n",
      "DSDZ\n",
      "DSSD\n",
      "DSSS\n",
      "DSSV\n",
      "DSSZ\n",
      "DSVD\n",
      "DSVS\n",
      "DSVV\n",
      "DSVZ\n",
      "DSZD\n",
      "DSZS\n",
      "DSZV\n",
      "DSZZ\n",
      "DVDD\n",
      "DVDS\n",
      "DVDV\n",
      "DVDZ\n",
      "DVSD\n",
      "DVSS\n",
      "DVSV\n",
      "DVSZ\n",
      "DVVD\n",
      "DVVS\n",
      "DVVV\n",
      "DVVZ\n",
      "DVZD\n",
      "DVZS\n",
      "DVZV\n",
      "DVZZ\n",
      "DZDD\n",
      "DZDS\n",
      "DZDV\n",
      "DZDZ\n",
      "DZSD\n",
      "DZSS\n",
      "DZSV\n",
      "DZSZ\n",
      "DZVD\n",
      "DZVS\n",
      "DZVV\n",
      "DZVZ\n",
      "DZZD\n",
      "DZZS\n",
      "DZZV\n",
      "DZZZ\n",
      "SDDD\n",
      "SDDS\n",
      "SDDV\n",
      "SDDZ\n",
      "SDSD\n",
      "SDSS\n",
      "SDSV\n",
      "SDSZ\n",
      "SDVD\n",
      "SDVS\n",
      "SDVV\n",
      "SDVZ\n",
      "SDZD\n",
      "SDZS\n",
      "SDZV\n",
      "SDZZ\n",
      "SSDD\n",
      "SSDS\n",
      "SSDV\n",
      "SSDZ\n",
      "SSSD\n",
      "SSSS\n",
      "SSSV\n",
      "SSSZ\n",
      "SSVD\n",
      "SSVS\n",
      "SSVV\n",
      "SSVZ\n",
      "SSZD\n",
      "SSZS\n",
      "SSZV\n",
      "SSZZ\n",
      "SVDD\n",
      "SVDS\n",
      "SVDV\n",
      "SVDZ\n",
      "SVSD\n",
      "SVSS\n",
      "SVSV\n",
      "SVSZ\n",
      "SVVD\n",
      "SVVS\n",
      "SVVV\n",
      "SVVZ\n",
      "SVZD\n",
      "SVZS\n",
      "SVZV\n",
      "SVZZ\n",
      "SZDD\n",
      "SZDS\n",
      "SZDV\n",
      "SZDZ\n",
      "SZSD\n",
      "SZSS\n",
      "SZSV\n",
      "SZSZ\n",
      "SZVD\n",
      "SZVS\n",
      "SZVV\n",
      "SZVZ\n",
      "SZZD\n",
      "SZZS\n",
      "SZZV\n",
      "SZZZ\n",
      "VDDD\n",
      "VDDS\n",
      "VDDV\n",
      "VDDZ\n",
      "VDSD\n",
      "VDSS\n",
      "VDSV\n",
      "VDSZ\n",
      "VDVD\n",
      "VDVS\n",
      "VDVV\n",
      "VDVZ\n",
      "VDZD\n",
      "VDZS\n",
      "VDZV\n",
      "VDZZ\n",
      "VSDD\n",
      "VSDS\n",
      "VSDV\n",
      "VSDZ\n",
      "VSSD\n",
      "VSSS\n",
      "VSSV\n",
      "VSSZ\n",
      "VSVD\n",
      "VSVS\n",
      "VSVV\n",
      "VSVZ\n",
      "VSZD\n",
      "VSZS\n",
      "VSZV\n",
      "VSZZ\n",
      "VVDD\n",
      "VVDS\n",
      "VVDV\n",
      "VVDZ\n",
      "VVSD\n",
      "VVSS\n",
      "VVSV\n",
      "VVSZ\n",
      "VVVD\n",
      "VVVS\n",
      "VVVV\n",
      "VVVZ\n",
      "VVZD\n",
      "VVZS\n",
      "VVZV\n",
      "VVZZ\n",
      "VZDD\n",
      "VZDS\n",
      "VZDV\n",
      "VZDZ\n",
      "VZSD\n",
      "VZSS\n",
      "VZSV\n",
      "VZSZ\n",
      "VZVD\n",
      "VZVS\n",
      "VZVV\n",
      "VZVZ\n",
      "VZZD\n",
      "VZZS\n",
      "VZZV\n",
      "VZZZ\n",
      "ZDDD\n",
      "ZDDS\n",
      "ZDDV\n",
      "ZDDZ\n",
      "ZDSD\n",
      "ZDSS\n",
      "ZDSV\n",
      "ZDSZ\n",
      "ZDVD\n",
      "ZDVS\n",
      "ZDVV\n",
      "ZDVZ\n",
      "ZDZD\n",
      "ZDZS\n",
      "ZDZV\n",
      "ZDZZ\n",
      "ZSDD\n",
      "ZSDS\n",
      "ZSDV\n",
      "ZSDZ\n",
      "ZSSD\n",
      "ZSSS\n",
      "ZSSV\n",
      "ZSSZ\n",
      "ZSVD\n",
      "ZSVS\n",
      "ZSVV\n",
      "ZSVZ\n",
      "ZSZD\n",
      "ZSZS\n",
      "ZSZV\n",
      "ZSZZ\n",
      "ZVDD\n",
      "ZVDS\n",
      "ZVDV\n",
      "ZVDZ\n",
      "ZVSD\n",
      "ZVSS\n",
      "ZVSV\n",
      "ZVSZ\n",
      "ZVVD\n",
      "ZVVS\n",
      "ZVVV\n",
      "ZVVZ\n",
      "ZVZD\n",
      "ZVZS\n",
      "ZVZV\n",
      "ZVZZ\n",
      "ZZDD\n",
      "ZZDS\n",
      "ZZDV\n",
      "ZZDZ\n",
      "ZZSD\n",
      "ZZSS\n",
      "ZZSV\n",
      "ZZSZ\n",
      "ZZVD\n",
      "ZZVS\n",
      "ZZVV\n",
      "ZZVZ\n",
      "ZZZD\n",
      "ZZZS\n",
      "ZZZV\n",
      "ZZZZ\n"
     ]
    }
   ],
   "source": [
    "%%bash\n",
    "cat Solution_Output.txt"
   ]
  }
 ],
 "metadata": {
  "kernelspec": {
   "display_name": "Python 3",
   "language": "python",
   "name": "python3"
  },
  "language_info": {
   "codemirror_mode": {
    "name": "ipython",
    "version": 3
   },
   "file_extension": ".py",
   "mimetype": "text/x-python",
   "name": "python",
   "nbconvert_exporter": "python",
   "pygments_lexer": "ipython3",
   "version": "3.5.2"
  }
 },
 "nbformat": 4,
 "nbformat_minor": 1
}
