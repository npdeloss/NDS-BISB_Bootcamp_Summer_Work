{
 "cells": [
  {
   "cell_type": "markdown",
   "metadata": {},
   "source": [
    "# Finding a Motif in DNA\n",
    "**Given:** Two DNA strings *s* and *t* (each of length at most 1 kbp).\n",
    "\n",
    "**Return:** All locations of *t* as a substring of *s*."
   ]
  },
  {
   "cell_type": "markdown",
   "metadata": {},
   "source": [
    "# Sample Dataset"
   ]
  },
  {
   "cell_type": "code",
   "execution_count": 1,
   "metadata": {
    "collapsed": false
   },
   "outputs": [
    {
     "name": "stdout",
     "output_type": "stream",
     "text": [
      "Overwriting Sample_Dataset.txt\n"
     ]
    }
   ],
   "source": [
    "%%file Sample_Dataset.txt\n",
    "GATATATGCATATACTT\n",
    "ATAT\n",
    "\n"
   ]
  },
  {
   "cell_type": "markdown",
   "metadata": {},
   "source": [
    "# Sample Output"
   ]
  },
  {
   "cell_type": "code",
   "execution_count": 2,
   "metadata": {
    "collapsed": false
   },
   "outputs": [
    {
     "name": "stdout",
     "output_type": "stream",
     "text": [
      "Overwriting Sample_Output.txt\n"
     ]
    }
   ],
   "source": [
    "%%file Sample_Output.txt\n",
    "2 4 10\n",
    "\n"
   ]
  },
  {
   "cell_type": "markdown",
   "metadata": {},
   "source": [
    "# Solution"
   ]
  },
  {
   "cell_type": "code",
   "execution_count": 3,
   "metadata": {
    "collapsed": false
   },
   "outputs": [],
   "source": [
    "import re\n",
    "\n",
    "def findMotifInDNA(s, t):\n",
    "    \"Given two DNA strings s and t (each of length at most 1 kbp), all locations of t as a substring of s.\"\n",
    "    \n",
    "    regex_lookahead_query = \"(?=%s)\" % re.escape(t)\n",
    "    \n",
    "    motif_locations = []\n",
    "    \n",
    "    for motif_location in re.finditer(regex_lookahead_query, s) :\n",
    "        motif_locations.append(motif_location.start())\n",
    "    \n",
    "    one_indexed_motif_locations = [motif_location + 1 for motif_location in motif_locations]\n",
    "    \n",
    "    return one_indexed_motif_locations\n",
    "\n",
    "def findMotifInDNAFromFileToFile(input_file_path, output_file_path):\n",
    "    \"Wraps countPointMutations to read from input_file_path and write to output_file_path\"\n",
    "    \n",
    "    input_file = open(input_file_path,'r')\n",
    "    output_file = open(output_file_path,'w')\n",
    "    \n",
    "    input_strings = input_file.readlines()\n",
    "    \n",
    "    s = input_strings[0].strip()\n",
    "    t = input_strings[1].strip()\n",
    "    \n",
    "    one_indexed_motif_locations = findMotifInDNA(s, t)\n",
    "    \n",
    "    one_indexed_motif_locations_as_strings = [str(motif_location) for motif_location in one_indexed_motif_locations]\n",
    "    \n",
    "    output_string = \" \".join(one_indexed_motif_locations_as_strings)\n",
    "    \n",
    "    output_file.write(\"%s\\n\" % output_string)\n",
    "    \n",
    "    input_file.close()\n",
    "    output_file.close()\n",
    "    \n",
    "    return\n"
   ]
  },
  {
   "cell_type": "markdown",
   "metadata": {},
   "source": [
    "# Test Solution"
   ]
  },
  {
   "cell_type": "code",
   "execution_count": 4,
   "metadata": {
    "collapsed": false
   },
   "outputs": [],
   "source": [
    "findMotifInDNAFromFileToFile(\"Sample_Dataset.txt\", \"Test_Output.txt\")"
   ]
  },
  {
   "cell_type": "code",
   "execution_count": 5,
   "metadata": {
    "collapsed": false
   },
   "outputs": [
    {
     "name": "stdout",
     "output_type": "stream",
     "text": [
      "Sample_Output.txt\n",
      "bf37e5ca54e2dde9fa36d57a40fa8901  Sample_Output.txt\n",
      "2 4 10\n"
     ]
    }
   ],
   "source": [
    "%%bash\n",
    "echo Sample_Output.txt\n",
    "md5sum Sample_Output.txt\n",
    "cat Sample_Output.txt"
   ]
  },
  {
   "cell_type": "code",
   "execution_count": 6,
   "metadata": {
    "collapsed": false
   },
   "outputs": [
    {
     "name": "stdout",
     "output_type": "stream",
     "text": [
      "Test_Output.txt\n",
      "bf37e5ca54e2dde9fa36d57a40fa8901  Test_Output.txt\n",
      "2 4 10\n"
     ]
    }
   ],
   "source": [
    "%%bash\n",
    "echo Test_Output.txt\n",
    "md5sum Test_Output.txt\n",
    "cat Test_Output.txt"
   ]
  },
  {
   "cell_type": "code",
   "execution_count": 7,
   "metadata": {
    "collapsed": false
   },
   "outputs": [
    {
     "name": "stdout",
     "output_type": "stream",
     "text": [
      "Sample output matches test output.\n"
     ]
    }
   ],
   "source": [
    "%%bash\n",
    "if [ $(md5sum Sample_Output.txt|cut -f1 -d' ') == $(md5sum Test_Output.txt|cut -f1 -d' ') ]\n",
    "then\n",
    "    echo Sample output matches test output.\n",
    "else\n",
    "    echo Sample output does not Match test output.\n",
    "fi"
   ]
  },
  {
   "cell_type": "markdown",
   "metadata": {},
   "source": [
    "# Downloaded Dataset"
   ]
  },
  {
   "cell_type": "code",
   "execution_count": 8,
   "metadata": {
    "collapsed": false
   },
   "outputs": [
    {
     "name": "stdout",
     "output_type": "stream",
     "text": [
      "GGCAGTATGCAGTATGGCAGTATGCAGTATGCAGTATGACAGTATGAGGTTTCAGTATGCCAGTATGTACAGTATGCGTCAGTATGTCAGTATGTGGCAGTATGCAGTATGCAGTATGCAGTATGGAACAGTATGCAGTATGCAGTATGTCAGTATGAGTTCAGTATGATCAGTATGCCTTGGACCCAGTATGCAGTATGATACAGTATGCAGTATGTCAGTATGATTCAGTATGTCAGTATGCCAGTATGCAGTATGATAACACAGTATGCAACCAGTATGCAGTATGCACAGTATGCCAGTATGCAGTATGGAGACATCGTCAGTATGCAGTATGCAGTATGCGCAGTATGCAGTATGAGCACAGTATGAGCTCACGCAGTATGCAGTATGTAACAGTATGCAGTATGTTCCAGTATGATTTTGTCAGTATGGTGCAGTATGCAGTATGGAAAGCAGTATGGATCAGTATGGTCAGTATGCAGTATGTACAGTATGCAGTATGATGCGCAGTATGCCGTCCAGTATGCGCAGTATGCAGTATGGAGATCAGTATGTCCAACCAGTATGTGGCAGTATGCAGTATGCAGTATGTACCCCAGTATGCAGTATGCAGTATGCAGTATGCAACAGTATGCCAGTATGACCAGTATGCAGTATGGTCGCCAGTATGAGCAGTATGTCGCAGTATGCAGTATGGGAAGCAGTATGCCAGTATGCTCAGTATGCCAGTATGGATCAGTATGTACCAGTATGATGTACAGTATGGGTGAACAGTATGCAGTATGTCAGTATGGCAGTATGTACCAGTATGTCATAACAGTATGGCAGTATGAGTGGGGCAGTATGCAGTATGCGGCAGTATGCCAGTATGCAGTATGCAGTATGCTGCAGTATGATCAGTATGACGGAACACACAGTATGACGGCAGTATGCAGTATGGCTGCAGTATGTCTTCAATTTAACAGTATGCAGTATGATCAGTATG\n",
      "CAGTATGCA\n"
     ]
    }
   ],
   "source": [
    "%%bash\n",
    "cp ~/Downloads/rosalind_subs.txt ./\n",
    "cat rosalind_subs.txt"
   ]
  },
  {
   "cell_type": "markdown",
   "metadata": {},
   "source": [
    "# Solution to Downloaded Dataset"
   ]
  },
  {
   "cell_type": "code",
   "execution_count": 9,
   "metadata": {
    "collapsed": false
   },
   "outputs": [],
   "source": [
    "findMotifInDNAFromFileToFile(\"rosalind_subs.txt\", \"Solution_Output.txt\")"
   ]
  },
  {
   "cell_type": "code",
   "execution_count": 10,
   "metadata": {
    "collapsed": false
   },
   "outputs": [
    {
     "name": "stdout",
     "output_type": "stream",
     "text": [
      "3 18 25 98 105 112 129 136 187 204 245 265 276 283 300 324 331 347 380 397 438 476 492 532 574 581 600 607 614 621 648 686 775 843 868 875 929 966\n"
     ]
    }
   ],
   "source": [
    "%%bash\n",
    "cat Solution_Output.txt"
   ]
  }
 ],
 "metadata": {
  "kernelspec": {
   "display_name": "Python 3",
   "language": "python",
   "name": "python3"
  },
  "language_info": {
   "codemirror_mode": {
    "name": "ipython",
    "version": 3
   },
   "file_extension": ".py",
   "mimetype": "text/x-python",
   "name": "python",
   "nbconvert_exporter": "python",
   "pygments_lexer": "ipython3",
   "version": "3.5.2"
  }
 },
 "nbformat": 4,
 "nbformat_minor": 1
}
