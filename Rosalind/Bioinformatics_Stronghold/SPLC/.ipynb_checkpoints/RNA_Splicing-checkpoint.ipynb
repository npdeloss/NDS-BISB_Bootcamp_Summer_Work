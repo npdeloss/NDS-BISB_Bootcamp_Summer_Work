{
 "cells": [
  {
   "cell_type": "markdown",
   "metadata": {},
   "source": [
    "# RNA Splicing\n",
    "**Given:** A DNA string *s* (of length at most 1 kbp) and a collection of substrings of *s* acting as introns. All strings are given in FASTA format.\n",
    "\n",
    "**Return:** A protein string resulting from transcribing and translating the exons of *s*. (Note: Only one solution will exist for the dataset provided.)\n"
   ]
  },
  {
   "cell_type": "code",
   "execution_count": 1,
   "metadata": {
    "collapsed": false
   },
   "outputs": [
    {
     "name": "stdout",
     "output_type": "stream",
     "text": [
      "Overwriting RNA_Codon_Table.txt\n"
     ]
    }
   ],
   "source": [
    "%%file RNA_Codon_Table.txt\n",
    "UUU F      CUU L      AUU I      GUU V\n",
    "UUC F      CUC L      AUC I      GUC V\n",
    "UUA L      CUA L      AUA I      GUA V\n",
    "UUG L      CUG L      AUG M      GUG V\n",
    "UCU S      CCU P      ACU T      GCU A\n",
    "UCC S      CCC P      ACC T      GCC A\n",
    "UCA S      CCA P      ACA T      GCA A\n",
    "UCG S      CCG P      ACG T      GCG A\n",
    "UAU Y      CAU H      AAU N      GAU D\n",
    "UAC Y      CAC H      AAC N      GAC D\n",
    "UAA Stop   CAA Q      AAA K      GAA E\n",
    "UAG Stop   CAG Q      AAG K      GAG E\n",
    "UGU C      CGU R      AGU S      GGU G\n",
    "UGC C      CGC R      AGC S      GGC G\n",
    "UGA Stop   CGA R      AGA R      GGA G\n",
    "UGG W      CGG R      AGG R      GGG G "
   ]
  },
  {
   "cell_type": "markdown",
   "metadata": {},
   "source": [
    "# Sample Dataset"
   ]
  },
  {
   "cell_type": "code",
   "execution_count": 2,
   "metadata": {
    "collapsed": false
   },
   "outputs": [
    {
     "name": "stdout",
     "output_type": "stream",
     "text": [
      "Overwriting Sample_Dataset.txt\n"
     ]
    }
   ],
   "source": [
    "%%file Sample_Dataset.txt\n",
    ">Rosalind_10\n",
    "ATGGTCTACATAGCTGACAAACAGCACGTAGCAATCGGTCGAATCTCGAGAGGCATATGGTCACATGATCGGTCGAGCGTGTTTCAAAGTTTGCGCCTAG\n",
    ">Rosalind_12\n",
    "ATCGGTCGAA\n",
    ">Rosalind_15\n",
    "ATCGGTCGAGCGTGT\n",
    "\n"
   ]
  },
  {
   "cell_type": "markdown",
   "metadata": {},
   "source": [
    "# Sample Output"
   ]
  },
  {
   "cell_type": "code",
   "execution_count": 3,
   "metadata": {
    "collapsed": false
   },
   "outputs": [
    {
     "name": "stdout",
     "output_type": "stream",
     "text": [
      "Overwriting Sample_Output.txt\n"
     ]
    }
   ],
   "source": [
    "%%file Sample_Output.txt\n",
    "MVYIADKQHVASREAYGHMFKVCA\n",
    "\n"
   ]
  },
  {
   "cell_type": "markdown",
   "metadata": {},
   "source": [
    "# Solution"
   ]
  },
  {
   "cell_type": "code",
   "execution_count": 4,
   "metadata": {
    "collapsed": false
   },
   "outputs": [],
   "source": [
    "class FastaRecord:\n",
    "    def __init__(self, name, sequence=\"\"):\n",
    "        self.name = name\n",
    "        self.sequence = sequence\n",
    "\n",
    "def parseFastaFile(fasta_file_path):\n",
    "    fasta_file = open(fasta_file_path,'r')\n",
    "    fasta_file_lines = fasta_file.readlines()\n",
    "    \n",
    "    fasta_records = []\n",
    "    \n",
    "    for line in fasta_file_lines:\n",
    "        if line[0] == \">\":\n",
    "            fasta_records.append(FastaRecord(line[1:].rstrip()))\n",
    "        else:\n",
    "            fasta_records[-1].sequence += line.rstrip()\n",
    "    \n",
    "    fasta_file.close()\n",
    "    \n",
    "    return fasta_records\n"
   ]
  },
  {
   "cell_type": "code",
   "execution_count": 5,
   "metadata": {
    "collapsed": true
   },
   "outputs": [],
   "source": [
    "def transcribeDNAToRNA(input_string):\n",
    "    \"Given a DNA string t having length at most 1000 nt, return the transcribed RNA string of t.\"\n",
    "    \n",
    "    output_string = input_string.replace(\"T\",\"U\")\n",
    "    \n",
    "    return output_string"
   ]
  },
  {
   "cell_type": "code",
   "execution_count": 6,
   "metadata": {
    "collapsed": true
   },
   "outputs": [],
   "source": [
    "def parseCodonTable(codon_table_file_path = \"RNA_Codon_Table.txt\"):\n",
    "    codon_table_file = open(codon_table_file_path,'r')\n",
    "    codon_table_file_tokens = codon_table_file.read().strip().split()\n",
    "    codons = codon_table_file_tokens[0::2]\n",
    "    amino_acids = codon_table_file_tokens[1::2]\n",
    "    codon_table = dict((codon, amino_acid) for codon, amino_acid in list(zip(codons, amino_acids)))\n",
    "    return codon_table\n"
   ]
  },
  {
   "cell_type": "code",
   "execution_count": 7,
   "metadata": {
    "collapsed": true
   },
   "outputs": [],
   "source": [
    "def translateRNA(input_string, codon_table = parseCodonTable(), start_codon = \"AUG\"):\n",
    "    \"Given an RNA string s corresponding to a strand of mRNA (of length at most 10 kbp), return the protein string encoded by s.\"\n",
    "    \n",
    "    rna_after_start_codon = input_string[input_string.find(start_codon):]\n",
    "    rna_codons = [rna_after_start_codon[i:i+3] for i in range(0, len(rna_after_start_codon), 3)]\n",
    "    rna_proteins = [codon_table[codon] for codon in rna_codons]\n",
    "    rna_proteins_before_stop = rna_proteins[0:rna_proteins.index(\"Stop\")]\n",
    "    rna_proteins_string = \"\".join(rna_proteins_before_stop)\n",
    "    \n",
    "    return rna_proteins_string\n"
   ]
  },
  {
   "cell_type": "code",
   "execution_count": 8,
   "metadata": {
    "collapsed": false
   },
   "outputs": [
    {
     "data": {
      "text/plain": [
       "'ATGGTCTACATAGCTGACAAACAGCACGTAGCATCTCGAGAGGCATATGGTCACATGTTCAAAGTTTGCGCCTAG'"
      ]
     },
     "execution_count": 8,
     "metadata": {},
     "output_type": "execute_result"
    }
   ],
   "source": [
    "s = \"ATGGTCTACATAGCTGACAAACAGCACGTAGCAATCGGTCGAATCTCGAGAGGCATATGGTCACATGATCGGTCGAGCGTGTTTCAAAGTTTGCGCCTAG\"\n",
    "introns = [\"ATCGGTCGAA\", \"ATCGGTCGAGCGTGT\"]\n",
    "for intron in introns:\n",
    "    s = s.replace(intron, ' ')\n",
    "    \n",
    "\"\".join(s.split())\n"
   ]
  },
  {
   "cell_type": "code",
   "execution_count": 9,
   "metadata": {
    "collapsed": false
   },
   "outputs": [],
   "source": [
    "def spliceRNA(input_string, introns):\n",
    "    \"Given an RNA string s corresponding to a strand of mRNA, and RNA strings s corresponding to intronic RNA, return the string of exonic RNA from s\"\n",
    "    for intron in introns:\n",
    "        input_string = input_string.replace(intron, ' ')\n",
    "    \n",
    "    output_string = \"\".join(input_string.split())\n",
    "    return output_string"
   ]
  },
  {
   "cell_type": "code",
   "execution_count": 10,
   "metadata": {
    "collapsed": true
   },
   "outputs": [],
   "source": [
    "def transcribeDNAToRNAThenSpliceAndTranslateRNA(input_string, introns, codon_table = parseCodonTable(), start_codon = \"AUG\"):\n",
    "    \"Given a DNA string s (of length at most 1 kbp) and a collection of substrings of s acting as introns, return a protein string resulting from transcribing and translating the exons of s.\"\n",
    "    \n",
    "    transcribed_rna = transcribeDNAToRNA(input_string)\n",
    "    transcribed_intronic_rna = [transcribeDNAToRNA(intron) for intron in introns]\n",
    "    \n",
    "    spliced_rna = spliceRNA(transcribed_rna, transcribed_intronic_rna)\n",
    "    \n",
    "    translated_protein = translateRNA(spliced_rna, codon_table, start_codon)\n",
    "    \n",
    "    return translated_protein\n",
    "    \n",
    "\n",
    "def transcribeDNAToRNAThenSpliceAndTranslateRNAFromFileToFile(input_file_path, output_file_path, codon_table_file_path = \"RNA_Codon_Table.txt\", start_codon = \"AUG\"):\n",
    "    \"Wraps transcribeDNAToRNAThenSpliceAndTranslateRNA to read from input_file_path and write to output_file_path\"\n",
    "    \n",
    "    fasta_records = parseFastaFile(input_file_path)\n",
    "    genomic_dna = fasta_records[0].sequence\n",
    "    intronic_dna = [fasta_record.sequence for fasta_record in fasta_records[1:]]\n",
    "    \n",
    "    codon_table = parseCodonTable(codon_table_file_path)\n",
    "    \n",
    "    translated_protein = transcribeDNAToRNAThenSpliceAndTranslateRNA(genomic_dna, intronic_dna, codon_table, start_codon)\n",
    "    \n",
    "    output_file = open(output_file_path, 'w')\n",
    "    output_file.write(\"%s\\n\" % translated_protein)\n",
    "    output_file.close()\n",
    "    \n",
    "    return\n"
   ]
  },
  {
   "cell_type": "markdown",
   "metadata": {},
   "source": [
    "# Test Solution"
   ]
  },
  {
   "cell_type": "code",
   "execution_count": 11,
   "metadata": {
    "collapsed": false
   },
   "outputs": [],
   "source": [
    "transcribeDNAToRNAThenSpliceAndTranslateRNAFromFileToFile(\"Sample_Dataset.txt\", \"Test_Output.txt\")"
   ]
  },
  {
   "cell_type": "code",
   "execution_count": 12,
   "metadata": {
    "collapsed": false
   },
   "outputs": [
    {
     "name": "stdout",
     "output_type": "stream",
     "text": [
      "Sample_Output.txt\n",
      "f8806c6a147f43be93beae4df6221db3  Sample_Output.txt\n",
      "MVYIADKQHVASREAYGHMFKVCA\n"
     ]
    }
   ],
   "source": [
    "%%bash\n",
    "echo Sample_Output.txt\n",
    "md5sum Sample_Output.txt\n",
    "cat Sample_Output.txt"
   ]
  },
  {
   "cell_type": "code",
   "execution_count": 13,
   "metadata": {
    "collapsed": false
   },
   "outputs": [
    {
     "name": "stdout",
     "output_type": "stream",
     "text": [
      "Test_Output.txt\n",
      "f8806c6a147f43be93beae4df6221db3  Test_Output.txt\n",
      "MVYIADKQHVASREAYGHMFKVCA\n"
     ]
    }
   ],
   "source": [
    "%%bash\n",
    "echo Test_Output.txt\n",
    "md5sum Test_Output.txt\n",
    "cat Test_Output.txt"
   ]
  },
  {
   "cell_type": "code",
   "execution_count": 14,
   "metadata": {
    "collapsed": false
   },
   "outputs": [
    {
     "name": "stdout",
     "output_type": "stream",
     "text": [
      "Sample output matches test output.\n"
     ]
    }
   ],
   "source": [
    "%%bash\n",
    "if [ $(md5sum Sample_Output.txt|cut -f1 -d' ') == $(md5sum Test_Output.txt|cut -f1 -d' ') ]\n",
    "then\n",
    "    echo Sample output matches test output.\n",
    "else\n",
    "    echo Sample output does not Match test output.\n",
    "fi"
   ]
  },
  {
   "cell_type": "markdown",
   "metadata": {},
   "source": [
    "# Downloaded Dataset"
   ]
  },
  {
   "cell_type": "code",
   "execution_count": 15,
   "metadata": {
    "collapsed": false
   },
   "outputs": [
    {
     "name": "stdout",
     "output_type": "stream",
     "text": [
      ">Rosalind_6882\n",
      "ATGTGGGCCCGCTATTCGTGTCTTATTGTTCGGGAGATACACAGAACTCAACGTTGACAT\n",
      "CGCGGAGTGCTATTTGCCAAAACCCGCAGGATTGGATTTTCATCCGGTTGTACTCGGCTC\n",
      "TAGGACATATCGTCTGCCCTAGGAAGGGTCTACGAGTGCCTTCACATAAGACAAGCGTAG\n",
      "GCATCTGGGGATACTAGATCGATCCCCTTAGGATTCAATCTTCAAGCCAATTAGCAGCTG\n",
      "CTGCCGGCGGGACTTAACTAAACATTACGCAGTGCAAGCGCGTGAGTCACTCGTACCGTC\n",
      "TACGCACTAGAAGTCTCCGTCACAAGCAAGACCAGCACTCCCTGTGTGATGTACGAAACT\n",
      "ATGGTCTTACCTGCAGGCGAGTCGCATTTTCGACTCTACATCCGCTACCATGCAGACACC\n",
      "ATCACATAAGATCGCCAGTCCGGCACAGATACCAGATCCTAAGTAGCGCAACTCCCCTGT\n",
      "CTGTGTGCGAGACGTTAAAACTAATCCTTGTCACTCGGGCGTGCTGAGTTGAGGCAACCG\n",
      "TGTAAGCGTCCCGACGCTAAAGATGGAATGTCAGTAAAGCCTTTCCAGTTCGGTGGTCGA\n",
      "TTTCTTCCTTTGGACGGTCCGCTTAGCAGTTAATGTGCATCTACAAAACGATGCAGGTGA\n",
      "GAGTACAGGTAATCAGCCGGTACCGCCCTATCCCAGCCGCTTTAACGACAACCTGATCGC\n",
      "GGAAAGTTATGCTGTTTCGGCTTGTCTACCGGGTCGAATATTCGCCCCCGACGGTGATTG\n",
      "GCAAGATAAGGGACACCGATACGTGTCCAGCGTTCTTGACCCATCGTCGAAAGGTTCTCT\n",
      "TCTCATCTCGCACATTAATTGCCGCGGCGAACGGCAGAGGTACCGGTCCTCCAATACTGT\n",
      "ATAGGCCTATCCCGTTCCACACCTAACTGTGCACCCCAGGAGGCAACTGCTGTCTAA\n",
      ">Rosalind_5579\n",
      "ATCTCGCACATTAATTGCCGC\n",
      ">Rosalind_9963\n",
      "AGCCGCTTTAACGACAACCT\n",
      ">Rosalind_8232\n",
      "TGGTCGATTTCTTCCTTTGGACGGTCCGCTTAGCAGTTAATGTG\n",
      ">Rosalind_7388\n",
      "CACAGAACTCAACGTTGAC\n",
      ">Rosalind_2001\n",
      "CACTCCCTGTGTGATGTACGAAACTATGGTCTTACCTG\n",
      ">Rosalind_1380\n",
      "CCGGTTGTACTCGGCTCTAGGACATATCG\n",
      ">Rosalind_9389\n",
      "AATACTGTATAGGCCTATCC\n",
      ">Rosalind_6076\n",
      "TCTACCGGGTCGAATATTCGCCCCCGACGGTGATTGGCAAGATAAGGGA\n",
      ">Rosalind_8259\n",
      "TTAGCAGCTGCTGCCGGCGGGACTTAACTAAACATTACGCAGTGCAAG\n",
      ">Rosalind_7681\n",
      "CCATCACATAAGATCGCCAGTCCGGCACAGATACCAGATCCTA\n",
      ">Rosalind_3696\n",
      "CGGGCGTGCTGAGTTGAGGCAACCGTGTAAGCGTCCCGACGCTAA\n",
      ">Rosalind_3346\n",
      "TGCCTTCACATAAGACAAGCGTAGGCATCTGGGGATACTAGATC\n"
     ]
    }
   ],
   "source": [
    "%%bash\n",
    "cp ~/Downloads/rosalind_splc.txt ./\n",
    "cat rosalind_splc.txt"
   ]
  },
  {
   "cell_type": "markdown",
   "metadata": {},
   "source": [
    "# Solution to Downloaded Dataset"
   ]
  },
  {
   "cell_type": "code",
   "execution_count": 16,
   "metadata": {
    "collapsed": false
   },
   "outputs": [],
   "source": [
    "transcribeDNAToRNAThenSpliceAndTranslateRNAFromFileToFile(\"rosalind_splc.txt\", \"Solution_Output.txt\")"
   ]
  },
  {
   "cell_type": "code",
   "execution_count": 17,
   "metadata": {
    "collapsed": false
   },
   "outputs": [
    {
     "name": "stdout",
     "output_type": "stream",
     "text": [
      "MWARYSCLIVREIIAECYLPKPAGLDFHSALGRVYEDPLRIQSSSQRVSHSYRLRTRSLRHKQDQQASRIFDSTSATMQTSSATPLSVCETLKLILVTRWNVSKAFPVRHLQNDAGESTGNQPVPPYPDRGKLCCFGLHRYVSSVLDPSSKGSLLGERQRYRSSRSTPNCAPQEATAV\n"
     ]
    }
   ],
   "source": [
    "%%bash\n",
    "cat Solution_Output.txt"
   ]
  }
 ],
 "metadata": {
  "kernelspec": {
   "display_name": "Python 3",
   "language": "python",
   "name": "python3"
  },
  "language_info": {
   "codemirror_mode": {
    "name": "ipython",
    "version": 3
   },
   "file_extension": ".py",
   "mimetype": "text/x-python",
   "name": "python",
   "nbconvert_exporter": "python",
   "pygments_lexer": "ipython3",
   "version": "3.5.2"
  }
 },
 "nbformat": 4,
 "nbformat_minor": 1
}
