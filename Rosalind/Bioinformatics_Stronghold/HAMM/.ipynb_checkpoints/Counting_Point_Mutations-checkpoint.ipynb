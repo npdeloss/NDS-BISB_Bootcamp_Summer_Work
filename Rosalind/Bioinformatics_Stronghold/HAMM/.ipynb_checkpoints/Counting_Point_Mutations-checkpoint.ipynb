{
 "cells": [
  {
   "cell_type": "markdown",
   "metadata": {},
   "source": [
    "# Counting Point Mutations\n",
    "**Given:** Two DNA strings *s* and *t* of equal length (not exceeding 1 kbp).\n",
    "\n",
    "**Return:** The Hamming distance *d*<sub>H</sub>(*s*,*t*)"
   ]
  },
  {
   "cell_type": "markdown",
   "metadata": {},
   "source": [
    "# Sample Dataset"
   ]
  },
  {
   "cell_type": "code",
   "execution_count": 1,
   "metadata": {
    "collapsed": false
   },
   "outputs": [
    {
     "name": "stdout",
     "output_type": "stream",
     "text": [
      "Overwriting Sample_Dataset.txt\n"
     ]
    }
   ],
   "source": [
    "%%file Sample_Dataset.txt\n",
    "GAGCCTACTAACGGGAT\n",
    "CATCGTAATGACGGCCT\n",
    "\n"
   ]
  },
  {
   "cell_type": "markdown",
   "metadata": {},
   "source": [
    "# Sample Output"
   ]
  },
  {
   "cell_type": "code",
   "execution_count": 2,
   "metadata": {
    "collapsed": false
   },
   "outputs": [
    {
     "name": "stdout",
     "output_type": "stream",
     "text": [
      "Overwriting Sample_Output.txt\n"
     ]
    }
   ],
   "source": [
    "%%file Sample_Output.txt\n",
    "7\n",
    "\n"
   ]
  },
  {
   "cell_type": "markdown",
   "metadata": {},
   "source": [
    "# Solution"
   ]
  },
  {
   "cell_type": "code",
   "execution_count": 3,
   "metadata": {
    "collapsed": false
   },
   "outputs": [],
   "source": [
    "def countPointMutations(s, t):\n",
    "    \"Given two DNA strings s and t of equal length (not exceeding 1 kbp), return the Hamming distance dH(s,t)\"\n",
    "    \n",
    "    hamming_distance = 0\n",
    "    for s_n, t_n in zip(s, t):\n",
    "        if s_n != t_n:\n",
    "            hamming_distance += 1        \n",
    "    \n",
    "    return hamming_distance\n",
    "\n",
    "def countPointMutationsFromFileToFile(input_file_path, output_file_path):\n",
    "    \"Wraps countPointMutations to read from input_file_path and write to output_file_path\"\n",
    "    \n",
    "    input_file = open(input_file_path,'r')\n",
    "    output_file = open(output_file_path,'w')\n",
    "    \n",
    "    input_strings = input_file.readlines()\n",
    "    \n",
    "    s = input_strings[0].strip()\n",
    "    t = input_strings[1].strip()\n",
    "    \n",
    "    output_string = \"%d\" % countPointMutations(s, t)\n",
    "    \n",
    "    output_file.write(\"%s\\n\" % output_string)\n",
    "    \n",
    "    input_file.close()\n",
    "    output_file.close()\n",
    "    \n",
    "    return\n"
   ]
  },
  {
   "cell_type": "markdown",
   "metadata": {},
   "source": [
    "# Test Solution"
   ]
  },
  {
   "cell_type": "code",
   "execution_count": 4,
   "metadata": {
    "collapsed": false
   },
   "outputs": [],
   "source": [
    "countPointMutationsFromFileToFile(\"Sample_Dataset.txt\", \"Test_Output.txt\")"
   ]
  },
  {
   "cell_type": "code",
   "execution_count": 5,
   "metadata": {
    "collapsed": false
   },
   "outputs": [
    {
     "name": "stdout",
     "output_type": "stream",
     "text": [
      "Sample_Output.txt\n",
      "84bc3da1b3e33a18e8d5e1bdd7a18d7a  Sample_Output.txt\n",
      "7\n"
     ]
    }
   ],
   "source": [
    "%%bash\n",
    "echo Sample_Output.txt\n",
    "md5sum Sample_Output.txt\n",
    "cat Sample_Output.txt"
   ]
  },
  {
   "cell_type": "code",
   "execution_count": 6,
   "metadata": {
    "collapsed": false
   },
   "outputs": [
    {
     "name": "stdout",
     "output_type": "stream",
     "text": [
      "Test_Output.txt\n",
      "84bc3da1b3e33a18e8d5e1bdd7a18d7a  Test_Output.txt\n",
      "7\n"
     ]
    }
   ],
   "source": [
    "%%bash\n",
    "echo Test_Output.txt\n",
    "md5sum Test_Output.txt\n",
    "cat Test_Output.txt"
   ]
  },
  {
   "cell_type": "code",
   "execution_count": 7,
   "metadata": {
    "collapsed": false
   },
   "outputs": [
    {
     "name": "stdout",
     "output_type": "stream",
     "text": [
      "Sample output matches test output.\n"
     ]
    }
   ],
   "source": [
    "%%bash\n",
    "if [ $(md5sum Sample_Output.txt|cut -f1 -d' ') == $(md5sum Test_Output.txt|cut -f1 -d' ') ]\n",
    "then\n",
    "    echo Sample output matches test output.\n",
    "else\n",
    "    echo Sample output does not Match test output.\n",
    "fi"
   ]
  },
  {
   "cell_type": "markdown",
   "metadata": {},
   "source": [
    "# Downloaded Dataset"
   ]
  },
  {
   "cell_type": "code",
   "execution_count": 8,
   "metadata": {
    "collapsed": false
   },
   "outputs": [
    {
     "name": "stdout",
     "output_type": "stream",
     "text": [
      "CAATTCCCCAGGCATGGAGTCTGTCGCGGCCTGATCCGTCTCCCATCGCTATCGCTACAAAGAACGTTAGGTGGGAGCTAGATAGTTGCGGGGACATAGATAAACGCCCATCATCGATCTAAACTCGTACCTTAGAAGGCAGCACTGGCGTATGATTTCTCGTCAGGCCAGGCTGTACAATCGTTAATGCCGTCAGTTGTGACCGTTCTCTACGTGTCACACTCTTTGCCCCGAAAGGCGTCCCACGGTGAGCCTTGTGGTAGAATGTCCTGCCTCGCACTAACCCGCTTTGCACGCTAAATCCATCGCGTAGGGGGCACTTATCCTACCAGGCAGTCGTGGTATAGGACAGGATGGTCGTCAGCTTCGGCGGGCAAACGGACCTCGCAGGGGATTGGGTATTGTCAGGGACCACCTTACTTACTTTGAGCGATAAATATCTAAATGGAAAATGTGATACTCGCGTCTGCTTAATAGTAGCGTCAATATGCACGACCACATTAATGCTAAAGTTGAGGACTAGTGATACAGCCGTCTTTGTCTCCATCTGCACCGGGCCGTCGACTGTCATCTTCTCTAAACGACGGGGGGAGAGGTCCTAATATAGAGGCATACACCCAGTCCGGTGTAGGTTAACGACGAGCTGGACTATTCTTACAGCCTGCTGAGTTGTCGATGGCAAAAGCGCAAGGGTATCCCCGCTCCACCGGCGTCCCCCGTTAGTTGGGCCATTTAGCGTTCCCCGCTAATCATTGCCCATTCCTATTATTCAAAAAAACACGATCGGACTGCTAGAGATATTACGCTCCCACTAACCTATATTCCGAATCCTGCGTTTGAATTGCTAAGCGTAAAGTAGTCACTGTAGGTGCTACTCCCATCAGTGATCATTTGCATAGACCACGGAGCGATACGTACCACAAAGCCTCCTAGGCCCTCTTTT\n",
      "CCCTTCGCATTGCTTCTACTCGGTCACAGCCCGACCTTGCTCTCAGCGATGAGCCCAAAAGTCCAGGCGGGTTGGTTACCGACAGGTGCGGGCTTGTATCTGTCAGCCCGCCATGGCCACATAAACCCTCCATACAATGCGCAATAAGAGCTTCATTGCGGGGCAGTGCAGACTGGCTTATTATCAATCCTGTAATCTTTGATGGCTCTGCAAAATTCGTAGACTCTACTCATAAAGGTTCCCATCGGTGAGTCTTACAGCAGATTATCGTGGCTATCACAAACGCGCTGAGGCAGCTCGAACGCTAGAGTGTGCCGAGCTAGCTATTCAGGACGTTATAGGCAGATTTCCTATTAGTTGTCAACGTCGTCGGGCGCACGGAATTCTCTGTTCACCCACGATTGACCCGGGTCCCGGTTCGTGGATTGTCTGTTCGTAGTGCAAGATGCCAATATTACTCCCGCGACTCGCTAGTATAATGGGCAAACATCAGGACGGCCCGAGTGTTACTTTAGAGGACTAGCGAGACAGCGGCCACTCTTTCTCTTTTAATACGCCCATTACCTAACATTACGTCAGTCGGACCGGCGGAGCCTTCATACAATAGAAACACCACCCCAAATCTGTCTCGGCGTACGACTAGCAGCAGACAGCTCATGGCCAATGATCCTCACGACGCTAAAACTGTATGAGCTTCGGCGCTAAACTGGGCTTTACTATGTTCTGTCCGCGGTGTTCTTGGACCCGGAGCGGCGCCTGTCTCCTAAATTTTGTCTACCAGTTACGACTGGCTAGAGATATAACTGGCGCGCTAAACCTCATTCTCAGACCTTGGTTGGGATTGCTATGCGGAAAGGCATCAGTATGGCATCTGCTATCCTACAATCGCTTTGGTATCGACACGCATGGATTGAGTGCCATACAGCGGGGTACGCCCTTTGTC\n"
     ]
    }
   ],
   "source": [
    "%%bash\n",
    "cp ~/Downloads/rosalind_hamm.txt ./\n",
    "cat rosalind_hamm.txt"
   ]
  },
  {
   "cell_type": "markdown",
   "metadata": {},
   "source": [
    "# Solution to Downloaded Dataset"
   ]
  },
  {
   "cell_type": "code",
   "execution_count": 9,
   "metadata": {
    "collapsed": false
   },
   "outputs": [],
   "source": [
    "countPointMutationsFromFileToFile(\"rosalind_hamm.txt\", \"Solution_Output.txt\")"
   ]
  },
  {
   "cell_type": "code",
   "execution_count": 10,
   "metadata": {
    "collapsed": false
   },
   "outputs": [
    {
     "name": "stdout",
     "output_type": "stream",
     "text": [
      "467\n"
     ]
    }
   ],
   "source": [
    "%%bash\n",
    "cat Solution_Output.txt"
   ]
  }
 ],
 "metadata": {
  "kernelspec": {
   "display_name": "Python 3",
   "language": "python",
   "name": "python3"
  },
  "language_info": {
   "codemirror_mode": {
    "name": "ipython",
    "version": 3
   },
   "file_extension": ".py",
   "mimetype": "text/x-python",
   "name": "python",
   "nbconvert_exporter": "python",
   "pygments_lexer": "ipython3",
   "version": "3.5.2"
  }
 },
 "nbformat": 4,
 "nbformat_minor": 1
}
