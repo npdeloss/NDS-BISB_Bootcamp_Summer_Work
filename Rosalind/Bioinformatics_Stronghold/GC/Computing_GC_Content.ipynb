{
 "cells": [
  {
   "cell_type": "markdown",
   "metadata": {},
   "source": [
    "# Computing GC Content\n",
    "**Given:** At most 10 DNA strings in FASTA format (of length at most 1 kbp each).\n",
    "\n",
    "**Return:** The ID of the string having the highest GC-content, followed by the GC-content of that string. Rosalind allows for a default error of 0.001 in all decimal answers unless otherwise stated; please see the note on absolute error below.\n"
   ]
  },
  {
   "cell_type": "markdown",
   "metadata": {},
   "source": [
    "# Sample Dataset"
   ]
  },
  {
   "cell_type": "code",
   "execution_count": 1,
   "metadata": {
    "collapsed": false
   },
   "outputs": [
    {
     "name": "stdout",
     "output_type": "stream",
     "text": [
      "Overwriting Sample_Dataset.txt\n"
     ]
    }
   ],
   "source": [
    "%%file Sample_Dataset.txt\n",
    ">Rosalind_6404\n",
    "CCTGCGGAAGATCGGCACTAGAATAGCCAGAACCGTTTCTCTGAGGCTTCCGGCCTTCCC\n",
    "TCCCACTAATAATTCTGAGG\n",
    ">Rosalind_5959\n",
    "CCATCGGTAGCGCATCCTTAGTCCAATTAAGTCCCTATCCAGGCGCTCCGCCGAAGGTCT\n",
    "ATATCCATTTGTCAGCAGACACGC\n",
    ">Rosalind_0808\n",
    "CCACCCTCGTGGTATGGCTAGGCATTCAGGAACCGGAGAACGCTTCAGACCAGCCCGGAC\n",
    "TGGGAACCTGCGGGCAGTAGGTGGAAT\n",
    "\n"
   ]
  },
  {
   "cell_type": "markdown",
   "metadata": {},
   "source": [
    "# Sample Output"
   ]
  },
  {
   "cell_type": "code",
   "execution_count": 2,
   "metadata": {
    "collapsed": false
   },
   "outputs": [
    {
     "name": "stdout",
     "output_type": "stream",
     "text": [
      "Overwriting Sample_Output.txt\n"
     ]
    }
   ],
   "source": [
    "%%file Sample_Output.txt\n",
    "Rosalind_0808\n",
    "60.919540\n",
    "\n"
   ]
  },
  {
   "cell_type": "markdown",
   "metadata": {},
   "source": [
    "# Solution"
   ]
  },
  {
   "cell_type": "code",
   "execution_count": 3,
   "metadata": {
    "collapsed": false
   },
   "outputs": [],
   "source": [
    "import collections\n",
    "\n",
    "def parseFastaFile(fasta_file_path):\n",
    "    fasta_file = open(fasta_file_path,'r')\n",
    "    fasta_file_lines = fasta_file.readlines()\n",
    "    \n",
    "    fasta_records = collections.OrderedDict()\n",
    "    \n",
    "    for line in fasta_file_lines:\n",
    "        if line[0] == \">\":\n",
    "            fasta_records[line[1:].rstrip()] = \"\"\n",
    "        else:\n",
    "            fasta_records[next(reversed(fasta_records))] += line.rstrip()\n",
    "            \n",
    "    fasta_file.close()\n",
    "    \n",
    "    return fasta_records\n"
   ]
  },
  {
   "cell_type": "code",
   "execution_count": 4,
   "metadata": {
    "collapsed": false
   },
   "outputs": [],
   "source": [
    "fasta_records = parseFastaFile(\"Sample_Dataset.txt\")\n",
    "sequences = list(fasta_records.values())\n",
    "names_of_sequences = list(fasta_records.keys())\n",
    "gc_content_of_sequences = [100 * ((sequence.count(\"G\") + sequence.count(\"C\"))) / len(sequence) for sequence in sequences]\n",
    "\n",
    "gc_content_of_sequence_with_max_gc_content = max(gc_content_of_sequences)\n",
    "name_of_sequence_with_max_gc_content = names_of_sequences[gc_content_of_sequences.index(gc_content_of_sequence_with_max_gc_content)]\n"
   ]
  },
  {
   "cell_type": "code",
   "execution_count": 5,
   "metadata": {
    "collapsed": false
   },
   "outputs": [],
   "source": [
    "import itertools\n",
    "\n",
    "def getMaxGCContent(fasta_records):\n",
    "    \"Given at most 10 DNA strings in FASTA format (of length at most 1 kbp each), return the ID of the string having the highest GC-content, followed by the GC-content of that string. Rosalind allows for a default error of 0.001 in all decimal answers unless otherwise stated; please see the note on absolute error below.\"\n",
    "    sequences = list(fasta_records.values())\n",
    "    names_of_sequences = list(fasta_records.keys())\n",
    "    gc_content_of_sequences = [100 * ((sequence.count(\"G\") + sequence.count(\"C\"))) / len(sequence) for sequence in sequences]\n",
    "\n",
    "    gc_content_of_sequence_with_max_gc_content = max(gc_content_of_sequences)\n",
    "    name_of_sequence_with_max_gc_content = names_of_sequences[gc_content_of_sequences.index(gc_content_of_sequence_with_max_gc_content)]\n",
    "            \n",
    "    return (name_of_sequence_with_max_gc_content, gc_content_of_sequence_with_max_gc_content)\n"
   ]
  },
  {
   "cell_type": "code",
   "execution_count": 6,
   "metadata": {
    "collapsed": true
   },
   "outputs": [],
   "source": [
    "def getMaxGCContentFromFileToFile(input_file_path, output_file_path):\n",
    "    \"Wraps getMaxGCContent to read from input_file_path and write to output_file_path\"\n",
    "    \n",
    "    output_file = open(output_file_path, 'w')\n",
    "    output_data = getMaxGCContent(parseFastaFile(input_file_path))\n",
    "    output_string = \"\\n\".join(map(str,list(output_data)))\n",
    "    output_file.write(\"%s\\n\" % output_string)\n",
    "    output_file.close()\n",
    "    \n",
    "    return\n"
   ]
  },
  {
   "cell_type": "markdown",
   "metadata": {},
   "source": [
    "# Test Solution"
   ]
  },
  {
   "cell_type": "code",
   "execution_count": 7,
   "metadata": {
    "collapsed": false
   },
   "outputs": [],
   "source": [
    "getMaxGCContentFromFileToFile(\"Sample_Dataset.txt\", \"Test_Output.txt\")"
   ]
  },
  {
   "cell_type": "code",
   "execution_count": 8,
   "metadata": {
    "collapsed": false
   },
   "outputs": [
    {
     "name": "stdout",
     "output_type": "stream",
     "text": [
      "Sample_Output.txt\n",
      "e58f0a54bbaf8c2aaf8fa7ea1c32e792  Sample_Output.txt\n",
      "Rosalind_0808\n",
      "60.919540\n"
     ]
    }
   ],
   "source": [
    "%%bash\n",
    "echo Sample_Output.txt\n",
    "md5sum Sample_Output.txt\n",
    "cat Sample_Output.txt"
   ]
  },
  {
   "cell_type": "code",
   "execution_count": 9,
   "metadata": {
    "collapsed": false
   },
   "outputs": [
    {
     "name": "stdout",
     "output_type": "stream",
     "text": [
      "Test_Output.txt\n",
      "3b24a4c35f6869f2716c37784e7b3f95  Test_Output.txt\n",
      "Rosalind_0808\n",
      "60.91954022988506\n"
     ]
    }
   ],
   "source": [
    "%%bash\n",
    "echo Test_Output.txt\n",
    "md5sum Test_Output.txt\n",
    "cat Test_Output.txt"
   ]
  },
  {
   "cell_type": "markdown",
   "metadata": {},
   "source": [
    "# Downloaded Dataset"
   ]
  },
  {
   "cell_type": "code",
   "execution_count": 10,
   "metadata": {
    "collapsed": false
   },
   "outputs": [
    {
     "name": "stdout",
     "output_type": "stream",
     "text": [
      ">Rosalind_3350\n",
      "CCACCGGCACTCCGTAGAGATAATTTAATGTATAGCCCTAATCCACCATCATGTCACGTA\n",
      "GATTGGTACTCGCGTACGTAAACTGGGAGCACAGGGCGATCAGTCCATCCGAGCGTCAAC\n",
      "TAACGGCTGCCATCCAATAGGCAGCAGAGTCCCTTAGACCCTCCCGTAGCAGTCATTTTG\n",
      "TTTCCACGTAATTTTACTACGAACACGAGGCTCTGCCTTTCGCTTGCTTGAACCAATTCC\n",
      "AGCAATGGCTGTCGCTGTTCTTTGGCGGTTGCAAAATTCGCGCCATTCTTGAGTAGAACG\n",
      "TCTATAGGGGAAGAGGAGCCTTAAATTCCTGGTATTGTTTTAAGGGGTGGTCTCTTCAAA\n",
      "GAAGACCTTCTAGCTTTCAATACAGGGGGCGGTCCTGGTTACCCGCAGTTATCAGTCGGC\n",
      "TGTAAGCGAGCTGTACTCACAAAATTTACGTGAAGCCGCCCTTTCAAGTCGGCTTCATAC\n",
      "TTCGAATATGAGCCAATATCTTGCAGCAGACGGTACTTCACGAGGCCTACTCTGCTTGCT\n",
      "CTGGATACCCCGCGGTTTAAGGGTTCTGTGGCCAGCATCAGAGGCGTGAAGCGACCTCTA\n",
      "GGGTGCTACGTATAGCTAAGTGGGCGCTTCACGTAGAAACCGTGTTCTCCGCGTCATCTA\n",
      "GATTGAGCTCTGACGTGGAAGCGCGAAACTTTGCTACGCAGGCACCAGCCGTCTGTGTAT\n",
      "GAACAGCTATCGCCCGGAGACTACAGCCTATACCCAGGCTCTTCTTGCCGAAGGAATGCC\n",
      "GCCCTGACGGCTTCAGAGCCCAAAGGGTCGCGTAGATATATATGTTT\n",
      ">Rosalind_7302\n",
      "GACCGCCGTCCCACGAGTTCGTCGCCCAGGGCCTCTACGAGAGGGAGTGGAAGCGTTAGA\n",
      "TCCCCACGTATTGGGCCGTCTGCCTTGCGTGGTGAATTGAAGGGGCCTATATTCCGTTAC\n",
      "TACAGCTGTGCCTAGAAAGAACTGTGGCCTACTTCATGCACCAGTGCGGAGTGAATATTC\n",
      "TGGTGCTCCTCCGTAGGATCTAAGCGTCTTATCCCGATCCGCGAGGGATCCCCCCCTTGG\n",
      "TCGACGTAAATCAAGATACATCCATCTCGCACGACGTTCACCGAGATCCAGGTTGCCTTG\n",
      "GCTGGTTGTTCGACTTGGTTCTGTTTAACTACGTACAGTCCCTAGACAGCGAGTTGCTCA\n",
      "CGGCCTACAGCCCCCGGGCTCTCCGGTCTATTTAGAGTGGATAGATATTCCGGGACCATG\n",
      "GCCGGATAGCCGGCCTATCACTAGCATATCATTGGCAAGTTAACGCCAGTCTGCGGAGCT\n",
      "AGTGTAGGTAAATAGTAGCAACTCTCCCACGGTTATAGGCGTAGCACGGTTGTGTGATTA\n",
      "TTCTAAAGTTTCCGAGGTTCACCGGTAGACGTGCCAACAGTACATCGGGTCAAACGAAAC\n",
      "GAAATAGCTTTTAATCACCCCACGTTACTTGAGAATCAAGACGGCGACCCTAGCCAAGCA\n",
      "GCCGTTGTCTGCAGCATCGGGTGTACATAGGCATCACTCTTAAGCAAGAACTCGGCGCAA\n",
      "CAACGACTCAGCAGTTGCTGTCTCTGTGGCGCGTGTGTGGAAGAACGGTTTATGGTGGTA\n",
      "AATTTCAAATCTCGGGTCTATGTAGGATCTGCAGTAATTTGACGTCGCCATGTGGTCGCT\n",
      "TTAACCAGGTCCATGTATTTTGTACGCAACTTGTCGCAGCGACATAAGCTAATAGTCTAA\n",
      "GTTCGGCTCTAAGTTGGCAGGACTACGGGGCAAGCAGTTCATGCTGAGCTAGCATTCCTC\n",
      "GAGGAGAAGTTGCGGTAGCACACGCTTTTGTC\n",
      ">Rosalind_0974\n",
      "TGGCTCGCTCATCCAGGAGAGCTATTGGCTTCTGCTTAATATCACTTGTGCGACAGCCTT\n",
      "TTCCTAGAAAGGAAGTCATACTAACTGACCCCTCTCGCATCTGCACGGCCTAACAAGCGG\n",
      "GCATCTTTCGTATATCCTCGATCATAGGTCTTTAACTTTCGACAAGCACCGTTGGAGGCC\n",
      "CCTCCAAGCGTGTAGCCTGTGGTCCGAGAGAGACACCTTTTTGCGGATTACGCCCCGCTC\n",
      "CGCTAGTATGTTAGCCAACAGAGAGCTAGTTTGTCTCTCCATGTACTATTAAGAGTTAGT\n",
      "GACACTAATCTATAGGTTATTTACCGGACCTCACCCCGCTTGAGAATCATCGAGCCAGTA\n",
      "GAACGTATTACGTGGGTCCTTCGAGTGTCTAGTTCTACCAGGACAGAAGAGATGCGAACG\n",
      "ATCCATCAAATGTGCCTGTAGGCTTTCCTTCTATATTTTATGGTGTAATCTAACATTCTG\n",
      "TCGGCGCAACCTTATACGATGGGTACTAGCATTTTGTTACACCCCTTGATTATCAAGTAT\n",
      "GGACCCTGAATGAATCATACGCAACTCGTGAAATCACCTCGGCCCGTACTGAGTGATAGT\n",
      "ACCACAAGCTCAACGATCGGAGCGAGGCAATGATGAATCTTTATTCTTTGTCCACCACAG\n",
      "TAGTGAGTTGTGAACGGACTGCGGGGTTAATCTTTCCCTAAGAGGTTCAATTCTGAGTTC\n",
      "TACATCAAACGCAAGTGGCCCCATACATCGGCTTACTCCTATGCAGTAAAAGGCAAACTT\n",
      "TGTTCGTCCTACGCCTACTAGCTTCGGCTATAGTGCACATCCGAAGTGGTGGGACAACGT\n",
      "TCCCCAATTCTAGTTACTGAAAGATCCATCGGTTGTGGGAGTTCAGCAAAACAATCCGAT\n",
      "GCTGCAGCCATAGAAGGAGTCGAGCAACCAATTAATGTATTGGCAGCGAGTGCTCGGCCT\n",
      "CAGACGGCGGTCTTCCTCGTGCAAGCTCCTGATGGGG\n",
      ">Rosalind_9153\n",
      "CACTGAAGCCTGATCTGTACCATGTCGCGGCTGTCAACGCACTTCTGACACTTCACTTCG\n",
      "CCACTTAGGTCATGTGACGCCACCTTTTCGAGGCACACCTGGGCCCATTCTTACAATAAC\n",
      "GGTGGGTATTCACAGAATGTACGGACCCCGGGTTATATACGCGGTCCCAGCTACCCCCCC\n",
      "CTGAGACTCAAAGATTATTGATCGTCCCCGAAGGTACGTTGCACATCGGAACAAACCGCC\n",
      "AGTACCTCTTATAGGTCGGGGTGGGCAGCAGACGCTTCCCCGAGGGTCCAAATCGCTACG\n",
      "TCTAAACTGCCTTTTAGAGGTTATCACTTTCGTGCCCTAGACATTTCAGCTGTAAGAGAT\n",
      "ACCTGTAAGGGATTAGCTACCGTTTTCGTACGGGGGAGACTACCGTGCGGGAGTGGCCCT\n",
      "GACTGTCTAGTCCAGTCAGTTGTCAGTGTGTATCTTACGTCGGCATAGTGTATATCAGAT\n",
      "CAAGATCGGCTCTGAACGAGCTACTCGAAGAACGGCAGCAAAAGGGAATGGCCACCAATT\n",
      "TCCCAATTTTCACTATGTGTGGTGTTTGGGGAGAGTGGGGCGTCCACGTAACTTACACCA\n",
      "CTGGTGCAACAACTAGCAACAAACCTTGAAGCGAATAACAGATATGAACATTCCAGATTT\n",
      "GGCGAGTGACTCTGTTAAACAAGTCATCCTTGCATATCCATAAGCATTGGATTCCTGGTA\n",
      "TGCCGATTGTACAAAAGGTAATCTACTCTCGCGCCACACGACAATGCCTAGCGCCGGGCC\n",
      "ATACCCTCTAAGGCCTGGCCCCATCAGGCTTCTCCAAGAGTGAGCGAACAGCAGGTTGGC\n",
      "TATTTGCTATGTCACGGAAATCTACTGACAGGTAGACACAGCATCCGGTCGACTATCTAC\n",
      "TGCAGCTAACGCGCAAGAAAGTGGTGGTATATCGAG\n",
      ">Rosalind_0438\n",
      "ATGGGGATAAATAGTTAGAAACTTTGCTGCCTTATCAATAACCTAGCCACTTACTGCAGA\n",
      "TTCGAAGAGTTTAAGCTGCTCCATATAGTGTTGAGTACACCCTAGACTCCGATTGGTAGA\n",
      "GCAAACCCCCGTCGGGAAGCGTTTGCTTAGCCAATTGGTCAGACTGAGTGAATGATTGCA\n",
      "ATGTAATGTCACCACCAGCGGTTGTCGAAGGGGGGTTCTTAGTCCTGTTGTCCTATTTAC\n",
      "TTTGCGGAAGTTCTGTATCATGGATTAACATTACCCCCCCTATCTCCAGTGGTAGATATT\n",
      "TTATGTGAGCCAAAATTCCGAAGCTGGGATCGATAAAACTAAATCATTGTCAGGACGCAG\n",
      "GAAGCCCTCGACGTAGGAAGGGACTACGGCCCACCTGGCAGATCCACTGTCACCCATACA\n",
      "GTCCTCCAGAGGCTGGAGATCGATCTGATCACAGCGCTAGAGACGTAGTGACATAGTGAG\n",
      "CGTCGGGTCTCTTTTGGATGGAAGTGTGTAGCTCTCAAAAATCGGTACGTGGACCGCCTC\n",
      "TGAATCCCTACTACTTCCTACCCGAACATAGTCGTTTAATATGTAAGCCAATGAACTAGA\n",
      "TACATTTTACGGTGACAACAGATGTAAGGACCGCACGACTGAGGTAATTTAAATAATTTC\n",
      "ACCAGTGTATCGTTGTTGAAATTTAGCAATTATATCCATGTTCGGGTTCGAACTCAACGG\n",
      "ACTTCTGCCGCCTTTCCGCGATTATTAAACTCTATATCACATCGCACGGCCTGAAACATG\n",
      "AACAAGTGGACACCTGTGCTAGCTGTGATGTCTGGTTAATCATGCCTAGAAATCCATAAC\n",
      "GGTCCGTTCCCATCCGCAGAAAACATTTGTTGCCTGCTGCATTGTATCGCAACTCTGCAC\n",
      "CTGCTATACATGTAATGGGTGGAGGAAGCTGTTCACCCAATAATGAGGCCACCCCATGGC\n",
      "CACGCAAGACTATGGGGTGGGTTTGCGCCT\n",
      ">Rosalind_9982\n",
      "TATCTCCTGGATAACTCCCTTAGTAACCCGCACGCAATGCACGTCCAGCGCGCACGGCGA\n",
      "GATCTGCGAGCGTTCACTATGTTATATTAGGAAGGGCGTCAAACCGGGCCTTCGGTGTAT\n",
      "TCTCGTACCATATGTTCGCGCTGCCTCTCGCGTTTTAAGAAATGCACTGACCCGAGGCTT\n",
      "GACGTTCCTTGGCCACTGAAACGCAAGCCGCTAGTGCGTCTAGTAGACGCATACTCAGCA\n",
      "TAGCTCCTGAAACCAATGAAGCTTAGCGTAACGTAATGGTCGGGGACTTCTTACTGGGAC\n",
      "TATCACTAAGTATGACAAAATCACTGCACACTATGACTAAGGTCTACCGAAGTATCCGTT\n",
      "TGCCAGAAATCCTCAGCACATTACAGTGCGGCACCAATAGTAGTAACCGGCAACGACGCC\n",
      "AAACCAATATAAATAGAGTTTATACCAAAAGACACGTATCGCGGTAGTCTCCTCAGTGCG\n",
      "TGCCATTCCATGTTTTGAATGGAGCAAGCTTTAAGCCTTACCTGGTGCGGTTTACCGGGG\n",
      "CTCGCAACGATATTCTATAGAGCCGTGGTTAGTCACTAGGAAAGTACCATCAGAGCTGCC\n",
      "CCTGGCGCTCTCCGATGGCGTTGGTGCCGTTTATCCAGACTTTCAATCAAGGCTACGACG\n",
      "GATACCCAGATTTGACTGGAAAAGTCCTCCCAAACCTTGCGGGTAGATAGAGATGCCTGA\n",
      "CGGTCCGATTGGATTGGCAATCGGATTTATATTTTCTAGCTGCATGCTATAGGCCGAGGT\n",
      "AACCGTGCAAAGATGGCTCACGTCCGTAGATCCCATGCCGCAGCCAAAGAACGGTAGGTC\n",
      "TGGATGCCGATATTCCCTTAATTGCAAACTCGTGCGCGCCAAATTAGCTTGAGTTTGGAA\n",
      "GTTTAACTTGTTCTCTTGAGCGTACTTTTACACACATTTGGTGGGAGTGTTGCAC\n",
      ">Rosalind_4067\n",
      "GTCCGGACGCGATATACTGCGCGGCAAGCGAGCCTGCGGAACACCAGTCTGGCACGGGCG\n",
      "CACAAACTCACTCATCGCACGATCCGTTAGCGTTGGTACGTTGCTGGATGCTTTGTGCGG\n",
      "TGTTAAAGCCGGGTACGTGACCACGGACGAGTCTACAATATCAAAGATCAGGACCTCAGT\n",
      "AGAACAACTTCAGGACCCGATTGAAGAAATTGCGTCTACGATTGTACCTAGTTTTATCTA\n",
      "CTGGTCGCGAAAACACGTTCAGTGTCTATCCGCTTTAGCGGTCGCTTCGTCGAACCCGCC\n",
      "GCTCTCTTAGAGCTGGTCGCGAATACTGGCCTCCCCGCAGGAATATTGCTGCGCCATAGT\n",
      "TGCGTCCAGCAAGTTTGTCGCATTCATACCGCATACCACGCGTCGACAAATTAGATACGT\n",
      "TTGCCACATGTTCATCACAATCGGATAAAGTAATGAGGCTATTCAGGGGAAATGTCCAGC\n",
      "TAGACTGCGCCCTCCCCAGCGCGCTGAGTGACCCGTCGGGACGCTCCTCAGGCAGCAAGC\n",
      "GTACACCAGTGTCCAAAAGCATGAGACTTAGGGTCAAGGCGAAATGTCCGGCCCACGAAG\n",
      "CCTGGAGCCTAATGCGCTTCTACCCTTCTGGGACACCGGTGTTGCTTTTACTAGTTATGC\n",
      "GGATGGAGTTAGCAAGTGAAAGCGCATGAAACAGGATCGACTGAAACGACCAGACAGCCC\n",
      "AAGAGTACCGCGTACGATTCTCGGGTAACCCTACACTTCAGCCTGTGAAGACGAGACGTA\n",
      "CTCGTCCACTATAATGCCGAATGACAGCCGGCCGTCGACACCATTGCCGCATCGAGTCCT\n",
      "ACGTGTAGTCCGTGGAGGTCTCTTGATTAGTGATAAGTCTCCGGGGGTGTATATTCAGTG\n",
      "TAGAGGGCCAGATGGCCAGTAA\n",
      ">Rosalind_1061\n",
      "CAGGGGAAGCTCAGAGGGCCCTGTTCTACTCCCTGATCGACGGTACGCTCTAGCATGAGG\n",
      "TTGAAGGGAAGAGTTAGTCCGGGGAATTGGAAGAACAGATCTAACCTACACGCATCACTG\n",
      "TGTTCCGATGTGCGACGAGCCATCTTCAGCTGTTAATAGCATGGCACCAAAGTAACAACT\n",
      "GCTACGCTAGGGCCATCATCCATGTCTCTGATTCTTTGGCCCAATGAGGATGATTCGGCT\n",
      "GTGGAGCTCTGCCGCTTACAGTAAGAGGAGGAGTAGCGCCCGGCTCATGCACCGATCCAC\n",
      "AGTAGGAACCACGCTACAAATAATTAACCCCGGGTAGTCGCCTCGCGGTCGCGATATAGA\n",
      "TTGCATGGTGGCTTAAGCGGGGTGAGCACCTCGGAGGACTTGCAGCGATCCGATAGTGAT\n",
      "CAGTGAGCACACGTAATAGGCTCGGCTACGGTGCTGAGCACCCACGCGGGAGCAGGGAAC\n",
      "TAAGTGGACCCGAAAGGTTGGACTTCAACCGGCGACCCTCAGAACCTTCTGGAGGCCTGT\n",
      "TTCATGTGCGTCGAACATCTGAAGGCATACCGCTGTGTAGTTTGAACCTTGTGGTATTTA\n",
      "CAAAATAAGCTGGTGTGCTAGCCTCGATAGGGAAATCGGCGGGCCCTCATATGAAGAACC\n",
      "CACACACTCCCCTTCGGCGACGTTTATGCGGCCGTCTGATTCTAAATATAACACACAGCA\n",
      "AATCAGCATCGCTCAGTAAGCAACTTCCCTGTCTTCTCCAACGGGTTCGGCTTGGCGGAG\n",
      "CACTGTTTAAAGTTTGACCACCATCAGCTTATATGTTTACCTCCACTGACGCGCGCGCAA\n",
      "TTGATCTGGAGCGCTCGACGTCCCTGTACGAAGAGAATCAAGTATATTTAATCTAGCGTG\n",
      "CGTGCCT\n",
      ">Rosalind_7938\n",
      "TCACTCTTGTACGACGTTATGGTAAGCCAGTGGATGTTGATGGCACATGCTGTTGATTAC\n",
      "CTCACAGATGCCTGTATAGCGAATGCCGTAGAGTTATTGCGAACTGCAGCCGGTCGGAGG\n",
      "ACTCTTCTGTGGCGATATGCGAGGTACCCATTTCCCCGTACGTACATCTATTCACTGAAG\n",
      "TGGAGGCCCAGCACCAAGTTGACCTTACATCTATTAGATTAGGCCGACGTTTAGGAACTA\n",
      "GGGTCAAAGTCGGGTGGGCGAGTTTGTGTGGGTACGGGGCAGACGCACACTCTCCGCGCC\n",
      "CATTCCAAAGCTACATTAACGACCATCATGTCATGCAACGTGGACATTGACATCATTACC\n",
      "GCCACGGGCGTAAACATATCAAGGTATGCCCTATCCGCGAGCTGTTACTTGCCATGGTCC\n",
      "GGCCAGTAGAGACGAATTTGCGCTCTGTGTACGATTAACTGGACAACCTCAATATTGTCT\n",
      "CCTGACGGACCTGGGAAGGCACGGCCTACGATCTGTTCTTACACCGCGTTGCCGCACTGC\n",
      "TCTCAAGGACACGAACCGTGTGGTCATAATTTAAGGCTAGTTGTCGCGATACACGGACAC\n",
      "AGTGCAATACGGGAAGCTAGGAGTGGGTCCAAATGAGCCCAAGCTCCGATGTTACAGATA\n",
      "GAATAGTAGGATTGCGTGCGTATGGGCAACGTCCGCCTGGATATTGCAGGGCTAAGGGAC\n",
      "ATCTCCACGTGTGTAGTGGTAAACTTGGAGGGCCTTCATAGACCACTTTATGAGAGTGAA\n",
      "AATTAGCACTCTCAGAAGCCGACCCGTGTGTCCAAGATGGCTGGGTCTCGAACTGCAGAG\n",
      "ATTGCTATTGACAACGGGAGATACAGACGGGTGGCCCCCCGAATGGAGCACAAGTTGGGT\n"
     ]
    }
   ],
   "source": [
    "%%bash\n",
    "cp ~/Downloads/rosalind_gc.txt ./\n",
    "cat rosalind_gc.txt"
   ]
  },
  {
   "cell_type": "markdown",
   "metadata": {},
   "source": [
    "# Solution to Downloaded Dataset"
   ]
  },
  {
   "cell_type": "code",
   "execution_count": 11,
   "metadata": {
    "collapsed": false
   },
   "outputs": [],
   "source": [
    "getMaxGCContentFromFileToFile(\"rosalind_gc.txt\", \"Solution_Output.txt\")"
   ]
  },
  {
   "cell_type": "code",
   "execution_count": 12,
   "metadata": {
    "collapsed": false
   },
   "outputs": [
    {
     "name": "stdout",
     "output_type": "stream",
     "text": [
      "Rosalind_4067\n",
      "53.36225596529284\n"
     ]
    }
   ],
   "source": [
    "%%bash\n",
    "cat Solution_Output.txt"
   ]
  }
 ],
 "metadata": {
  "kernelspec": {
   "display_name": "Python 3",
   "language": "python",
   "name": "python3"
  },
  "language_info": {
   "codemirror_mode": {
    "name": "ipython",
    "version": 3
   },
   "file_extension": ".py",
   "mimetype": "text/x-python",
   "name": "python",
   "nbconvert_exporter": "python",
   "pygments_lexer": "ipython3",
   "version": "3.5.2"
  }
 },
 "nbformat": 4,
 "nbformat_minor": 1
}
