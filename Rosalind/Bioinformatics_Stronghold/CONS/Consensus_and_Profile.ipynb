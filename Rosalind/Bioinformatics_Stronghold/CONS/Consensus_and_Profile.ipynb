{
 "cells": [
  {
   "cell_type": "markdown",
   "metadata": {},
   "source": [
    "# Consensus and Profile\n",
    "**Given:** A collection of at most 10 DNA strings of equal length (at most 1 kbp) in FASTA format.\n",
    "\n",
    "**Return:** A consensus string and profile matrix for the collection. (If several possible consensus strings exist, then you may return any one of them.)\n"
   ]
  },
  {
   "cell_type": "markdown",
   "metadata": {},
   "source": [
    "# Sample Dataset"
   ]
  },
  {
   "cell_type": "code",
   "execution_count": 1,
   "metadata": {
    "collapsed": false
   },
   "outputs": [
    {
     "name": "stdout",
     "output_type": "stream",
     "text": [
      "Overwriting Sample_Dataset.txt\n"
     ]
    }
   ],
   "source": [
    "%%file Sample_Dataset.txt\n",
    ">Rosalind_1\n",
    "ATCCAGCT\n",
    ">Rosalind_2\n",
    "GGGCAACT\n",
    ">Rosalind_3\n",
    "ATGGATCT\n",
    ">Rosalind_4\n",
    "AAGCAACC\n",
    ">Rosalind_5\n",
    "TTGGAACT\n",
    ">Rosalind_6\n",
    "ATGCCATT\n",
    ">Rosalind_7\n",
    "ATGGCACT\n"
   ]
  },
  {
   "cell_type": "markdown",
   "metadata": {},
   "source": [
    "# Sample Output"
   ]
  },
  {
   "cell_type": "code",
   "execution_count": 2,
   "metadata": {
    "collapsed": false
   },
   "outputs": [
    {
     "name": "stdout",
     "output_type": "stream",
     "text": [
      "Overwriting Sample_Output.txt\n"
     ]
    }
   ],
   "source": [
    "%%file Sample_Output.txt\n",
    "ATGCAACT\n",
    "A: 5 1 0 0 5 5 0 0\n",
    "C: 0 0 1 4 2 0 6 1\n",
    "G: 1 1 6 3 0 1 0 0\n",
    "T: 1 5 0 0 0 1 1 6\n",
    "\n"
   ]
  },
  {
   "cell_type": "markdown",
   "metadata": {},
   "source": [
    "# Solution"
   ]
  },
  {
   "cell_type": "code",
   "execution_count": 3,
   "metadata": {
    "collapsed": false
   },
   "outputs": [],
   "source": [
    "class FastaRecord:\n",
    "    def __init__(self, name, sequence=\"\"):\n",
    "        self.name = name\n",
    "        self.sequence = sequence\n",
    "\n",
    "def parseFastaFile(fasta_file_path):\n",
    "    fasta_file = open(fasta_file_path,'r')\n",
    "    fasta_file_lines = fasta_file.readlines()\n",
    "    \n",
    "    fasta_records = []\n",
    "    \n",
    "    for line in fasta_file_lines:\n",
    "        if line[0] == \">\":\n",
    "            fasta_records.append(FastaRecord(line[1:].rstrip()))\n",
    "        else:\n",
    "            fasta_records[-1].sequence += line.rstrip()\n",
    "    \n",
    "    fasta_file.close()\n",
    "    \n",
    "    return fasta_records\n"
   ]
  },
  {
   "cell_type": "code",
   "execution_count": 4,
   "metadata": {
    "collapsed": false
   },
   "outputs": [],
   "source": [
    "class ConsensusAndProfile:\n",
    "\n",
    "    def __init__(self, fasta_records):\n",
    "        \"Given a collection of at most 10 DNA strings of equal length (at most 1 kbp) in FASTA format, return a consensus string and profile matrix for the collection. (If several possible consensus strings exist, then you may return any one of them.)\"\n",
    "        \n",
    "        self.consensus = \"\"\n",
    "        self.profile = {'A':[], 'C':[], 'G':[], 'T':[]}\n",
    "        \n",
    "        sequences = [fasta_record.sequence for fasta_record in fasta_records]\n",
    "        list_of_zipped_sequences = list(zip(*sequences))\n",
    "        transposed_sequences = [\"\".join(position) for position in list_of_zipped_sequences]\n",
    "        \n",
    "        for base_position in transposed_sequences:\n",
    "            base_consensus = \"\"\n",
    "            max_base_count = 0\n",
    "            for base in list(self.profile.keys()):\n",
    "                base_count = base_position.count(base)\n",
    "                self.profile[base].append(base_count)\n",
    "                if base_count > max_base_count:\n",
    "                    max_base_count = base_count\n",
    "                    base_consensus = base\n",
    "            self.consensus += base_consensus\n",
    "    \n",
    "    def __str__(self):\n",
    "        summary_string = \"\"\n",
    "        summary_string += self.consensus\n",
    "        summary_string += \"\\n\"\n",
    "        \n",
    "        summary_string += \"A: \"\n",
    "        summary_string += \" \".join(map(str, self.profile['A']))\n",
    "        summary_string += \"\\n\"\n",
    "        \n",
    "        summary_string += \"C: \"\n",
    "        summary_string += \" \".join(map(str, self.profile['C']))\n",
    "        summary_string += \"\\n\"\n",
    "        \n",
    "        summary_string += \"G: \"\n",
    "        summary_string += \" \".join(map(str, self.profile['G']))\n",
    "        summary_string += \"\\n\"\n",
    "        \n",
    "        summary_string += \"T: \"\n",
    "        summary_string += \" \".join(map(str, self.profile['T']))\n",
    "        summary_string += \"\\n\"\n",
    "        \n",
    "        return summary_string\n",
    "    \n",
    "    def __repr__(self):\n",
    "        return \"%s\" % str(self)\n"
   ]
  },
  {
   "cell_type": "code",
   "execution_count": 5,
   "metadata": {
    "collapsed": true
   },
   "outputs": [],
   "source": [
    "def consensusAndProfileFromFileToFile(input_file_path, output_file_path):\n",
    "    \"Wraps ConsensusAndProfile to read from input_file_path and write to output_file_path\"\n",
    "    \n",
    "    fasta_records = parseFastaFile(input_file_path)\n",
    "    consensus_and_profile = ConsensusAndProfile(fasta_records)\n",
    "    \n",
    "    output_file = open(output_file_path, 'w')\n",
    "    output_file.write(\"%s\" % str(consensus_and_profile))\n",
    "    output_file.close()\n",
    "    \n",
    "    return\n"
   ]
  },
  {
   "cell_type": "markdown",
   "metadata": {},
   "source": [
    "# Test Solution"
   ]
  },
  {
   "cell_type": "code",
   "execution_count": 6,
   "metadata": {
    "collapsed": false
   },
   "outputs": [],
   "source": [
    "consensusAndProfileFromFileToFile(\"Sample_Dataset.txt\", \"Test_Output.txt\")"
   ]
  },
  {
   "cell_type": "code",
   "execution_count": 7,
   "metadata": {
    "collapsed": false
   },
   "outputs": [
    {
     "name": "stdout",
     "output_type": "stream",
     "text": [
      "Sample_Output.txt\n",
      "7ce2d1315cb7ec785ee52b68fac40bea  Sample_Output.txt\n",
      "ATGCAACT\n",
      "A: 5 1 0 0 5 5 0 0\n",
      "C: 0 0 1 4 2 0 6 1\n",
      "G: 1 1 6 3 0 1 0 0\n",
      "T: 1 5 0 0 0 1 1 6\n"
     ]
    }
   ],
   "source": [
    "%%bash\n",
    "echo Sample_Output.txt\n",
    "md5sum Sample_Output.txt\n",
    "cat Sample_Output.txt"
   ]
  },
  {
   "cell_type": "code",
   "execution_count": 8,
   "metadata": {
    "collapsed": false
   },
   "outputs": [
    {
     "name": "stdout",
     "output_type": "stream",
     "text": [
      "Test_Output.txt\n",
      "7ce2d1315cb7ec785ee52b68fac40bea  Test_Output.txt\n",
      "ATGCAACT\n",
      "A: 5 1 0 0 5 5 0 0\n",
      "C: 0 0 1 4 2 0 6 1\n",
      "G: 1 1 6 3 0 1 0 0\n",
      "T: 1 5 0 0 0 1 1 6\n"
     ]
    }
   ],
   "source": [
    "%%bash\n",
    "echo Test_Output.txt\n",
    "md5sum Test_Output.txt\n",
    "cat Test_Output.txt"
   ]
  },
  {
   "cell_type": "code",
   "execution_count": 9,
   "metadata": {
    "collapsed": false
   },
   "outputs": [
    {
     "name": "stdout",
     "output_type": "stream",
     "text": [
      "Sample output matches test output.\n"
     ]
    }
   ],
   "source": [
    "%%bash\n",
    "if [ $(md5sum Sample_Output.txt|cut -f1 -d' ') == $(md5sum Test_Output.txt|cut -f1 -d' ') ]\n",
    "then\n",
    "    echo Sample output matches test output.\n",
    "else\n",
    "    echo Sample output does not Match test output.\n",
    "fi"
   ]
  },
  {
   "cell_type": "markdown",
   "metadata": {},
   "source": [
    "# Downloaded Dataset"
   ]
  },
  {
   "cell_type": "code",
   "execution_count": 10,
   "metadata": {
    "collapsed": false
   },
   "outputs": [
    {
     "name": "stdout",
     "output_type": "stream",
     "text": [
      ">Rosalind_0853\n",
      "TTAGGTTATTGGGCTACCGGCTTGCTATTCGGCACAGCGCGCTATAGACCCTAATGGCTT\n",
      "GACACGGCTCTCACTGTGACACTGCAGCACGTCTTCGTAGTACGCTTTGTAACCATCCAT\n",
      "GTTTCATAGCAGGTTGGCAACCCGGCGAGGCCGGGGGTGCCGATTACCTACTTCGAGTTT\n",
      "CCCGTTAGTAAGAACCTGAGAGCCCGTTGAAATCGCCAACTCTTACAACGTTATCCTACC\n",
      "CACCAATCTAATTCCACGCTTGGTCGCGAAGGTCGACCTGTATCCGCTGATAAGGGCATC\n",
      "GTATACAGAGTGACAGCATAAACGAGCCTGCTCGTCTCGTGGAGAGGATGGTCGTGTAGG\n",
      "GAAGGTTGCGCGAGCCGGTCTACGTGCCTTGACAGGAGTGTAGCTCTACAGTTATTTCCT\n",
      "ACGCTGACTCAAGAGTTGATCCAACTTATTCAAATGTGAGAGGCACGTGTCAGTGATTCG\n",
      "GCTAGAGTCGCTGTCAGTCGACGTCCTGGAAATCGTAAAAGTAAGTTCGGGGGAAGACAT\n",
      "GAGTACATGTGGAAGGTTCTGAGCGTCTCGGATCTACTGTGAAAGTTGCAGCGTTCACCT\n",
      "GAATTGAAAGATGAGATTTATACGAGCCGACTACGGAGGTAAGTTTAACTTAGCAACGTC\n",
      "TCCCCCAAACACATATCACCCCGTTGGTATTGAACCAATCGCTAAGGGGGCTCGAACCAT\n",
      "CATCGGCACGGCAGAGGATGATTCTCCCAACCATGATCTCCAAGCTAAGTAGGGACAATC\n",
      "GGAGGGAGAAGAAAGATCAGGATATCAATGTAGTCACGGGAATAGAGTCCTCCCTTTGAT\n",
      "TTATGAACCGGTCTCTCTAGCAAACGTGAATAACCGCGTCATAATATCATCAATTCACTT\n",
      "GAGA\n",
      ">Rosalind_2281\n",
      "TGAGTGCGGTACGGACGGAAACAGAATCATGCCATAAGAGACCATGGAATGTATAACAAG\n",
      "CCTTAGGGGACCTTCACTTATATGAGGCTGATTGGACGATAAAAGAATCTACGTCTACAC\n",
      "GATTTACAGCAAACGAACTACATTTTGTCAGAAGTTTATTCACTTAGGGGACAGCTAAAA\n",
      "ATTAGTATGCACCTTCCGAATTCATCGGGACAGCCCATTGCCCGTAGGTAATGAGCGCTG\n",
      "AAGCAAATCACCACAATGAAAGACCCATGCGAATTCCAACAATTTCCGTGAGGGCGGACG\n",
      "ATAGCATATTACTCAGTTGATAACACGACAACGTCGTACGGCCAAGGCTGGCTCATATTC\n",
      "AGTCTTCCGCTCCGTGGACCGTAAAGGTTCTTCATATCGCTAAAAGAGGCTTGAATCATT\n",
      "CTTGGTCTACAGGCTTCATCTCGTGGCAAGTACGTTCGAGCGGTCACATTCCGTCATACT\n",
      "CTATCAGCTTCCCGTGCCGCTTTTCGACCTTCAACTGTAGTAACGGCTTAGCTAAAGATA\n",
      "TGGTTATCTTCCGGGTATACGAGCAGTGTGTATTTCATGGAATAAAGCAGTGAAGGATGT\n",
      "TAACGGACAGTCTTTCCGGGAGTGCACTCATGTCCTTCTGGGCCAATCATCTGGACGAAC\n",
      "GATTAGAGCGACTTAGATCTTTAAGGTGCACTGGCAGTCTGAGGTAACGTGAGAAACTTC\n",
      "CAGCAACCACTAATTTGGCCTCTAACCTACTGCTATCACGGTCCCCTACCGCAGCACCTC\n",
      "CTGGCCCACTTCCTGAGCTTCGACTCCTCCTATGACGCCTGCAGGAGCCGTGTATTAGTC\n",
      "CTGGTAGGCAGTTGTTAATGTTGCGCGCAACCCCCCAGTAAATTAAAACGATCACTTGGG\n",
      "ATCG\n",
      ">Rosalind_4021\n",
      "ACAGATAGGAGGGCCAAGGGTCTTGCTACGACTCACTGCCGAGACTGACTTAATCCGTGT\n",
      "TCTCGCGGTCGTACTATTGGGCGCGCTTTTATAGACCTGACCGGGGCAACGGCGGATACA\n",
      "TTTTACATGCGTAGCAGCGCGTGACGAAATCCGGGCAAGCGCTACCGGGAGAAATCCGGG\n",
      "TAAGGTGCTCCGGACTGAGAGGCTGCACGGCTCAGGTCGAGGGATCAAACCTGCTTTGGT\n",
      "ATACCAGGGCGTTTGGCAAGTCGTGCGACACCGCGTGCGCGCCATTTACAAACTCACAAG\n",
      "AGTTCATGTCACCTTGTAGAGCGCCCGCCACGAACAGACTATCCGCGCGAGGGTAAATTA\n",
      "CGGCTAATCCGCAGGCCTACCAATCATTCTGAGTATAATAGATCCACTCGTCAGGGCCTA\n",
      "GTCAGATATGAGTAATTCAAACATGGCTTGAACGGCATCGGACGCCACTCGCTATTCCTT\n",
      "CTGGCGAGCCGCGCCCTAGCGTATGACGTAAGATACGGGACCTACCGGTGTGCGAAAGCC\n",
      "AGTGGTTAGAGTGCACCCCGTTGATGTAGGTGCCTCTGTCAAGTAAAAAGATGACTGAGG\n",
      "GGGATCTAGGATCAGCGGAGGCCTGTCGAGGCATTTCGCCATAGTGCACGTGCTAGAGCT\n",
      "TTCGCGAACTATTTGTTTGTTGGTAATATAGTCAGCCGTCTGGGGCATCTCGGTCGACAC\n",
      "CTTTTGCGATTTTCTTTCCAGTTACCTCGGCTCCGGGATCGGTCATCAACAAGTGCAAGT\n",
      "CGTCTTACTGAATATGCTGCCAACGACATGGCGGAGGTGAATTCGGGTGGCTCACGTGTT\n",
      "AACTAAGCGCCCCAGCACCATTAGGAATAAGTGAAGCAGCGGGGAACTGCACCATGTAAG\n",
      "TAAT\n",
      ">Rosalind_0641\n",
      "TTACGCCCCCAGGACGTGTGAAAATAAACTAAGTTTCCGTCGATCAAGTCAATTGTAGAA\n",
      "CCTCAGTATATGATCCGCCTCCGGGCTCCCTGTGAAACACCCTTTATAGTGAATGTTTGA\n",
      "TATAGCAGCAATAATGTGGGGAACTCCGAATTCAACATCGTCATAACGTCAACCCTACCC\n",
      "TGGCGGCTTAAGTTGTGATAGACGGCGAATAATTATTCCGCTAGATAATGGGATGCTTAC\n",
      "TTCGCGGTCTCGATGCCCGCCTTCGATCCAACACAGTATAAGCGCCGCAGGTAATGTGAT\n",
      "CAAAATGTCAGATCACGGGGCGAAATCATTTACGGTAACCTGGCGCCGCCTTTCTATAGT\n",
      "TTTCTCAGTCAAACTGCGCATAACATCGGTAGACTATAAGTTCTATCCTCAGTAATGACC\n",
      "CGGTTCTTAAGAAGCTTAACATCCATACTCAAACTGTTGTCCAATCCGACGTGAGTCCAG\n",
      "AGGGTAGAATAACTTTTTCGTATTTTCATGAGCGTCTAGAAGCGGTCTTGGATAGGCTTG\n",
      "CGGTCTAGTCAAACTGCCAGTTCTGTGCAGTGACTAATTACGGTCTTGAGACATAGCGTA\n",
      "CCACTAACCGGCTGCGTGGTGGATGATAGTAGGGACCACGTTTCACATGGCCAGCGGCCG\n",
      "TGACTGGAGGGTGTGGGTGCGTACAGAATTACACGGCCGGTCCTTCATGGACTCGCAACT\n",
      "GTGCTCGACAAATTTCGTCACTACCCATCCTTTGCGGCAAAGCTCCAACCCATCGATCTC\n",
      "CTTCGTCCTAGTGAACTTATGCCGAGTAAGATAAGAACCGATTAATTTCAACCTAGGAGA\n",
      "TGGGCGCTGAGGACTATGATCATCTCTCGATTCTCAACCAGTTCATGGAACTAATTTGAC\n",
      "TCAC\n",
      ">Rosalind_7480\n",
      "ATAACTGGTATGAGTAGAATAGTAGTTTTATGCAGGTGTGGTGCTAGATCCTCACCCCGG\n",
      "CGCCGTCGCCTAAGAAACAGCCACTAGACTGCGAAATTAGTAAACGCATTTTAGACTATA\n",
      "GCATGATCCCTTATACTATGTAGGGAATAATGATAGATCACGCACACGTACTTCTAGTTT\n",
      "ATATGCACGGTTTGATGTACCCAGTGTACTTTTAGCTCCACCTACTCGAGTGTTGCACCT\n",
      "CTATTACGCCGTAAATAGGCCGTCTATCTGCTCTAGTGATGACATTAGAATATGCGACTA\n",
      "ATTTTACTAGGTCCGTTATAAGTATGGTTTATCATAAGTCACTATCCGGCTGTGTTCGGC\n",
      "ATTCAGCTAGATGAAATGCGGCCAATGCCACTCTCTCCGTTCTGGGGAATGGACTTTAGG\n",
      "CGGTATCTATCGCGCATTTTGGTCATTTAACGGTACGTGTTTGAGTTTCCTGCGCCAAGC\n",
      "ATTCTGAATTCTGCGAGGTGTTTTGCGCGGACATATGTTAGGATCATCTCAACCACAGTC\n",
      "CGGAATAATGTAATTCTACCATGCGGGCCAGTGTCAAGTGGGTTTTCGGCGCTATTACGG\n",
      "CAGTAGAAGACGTATACGATCGACCCGTCATGCATAAACGAAGTAAAGTTCGTTATATTC\n",
      "GGTCTGGCATACGCGGTTGTACCAATCATTATGCGTAAGTGACGCGGCGCAAGTATTCGA\n",
      "ATCGGCCGACCCTGCGGTCCATGCGGACGTTGGGTACATTAAGGTCGTTCCATTCATAGA\n",
      "ACTGAATGCTGCTTTACTTTCGCTGGTTAAGTAGAACGTATGGCAACCGTAACAGTAGCG\n",
      "CAACGCTGTCTAAATGTCTCGATATGTATCCCATACACGAGTCTGCCTAAGATTTAGCTC\n",
      "CTCT\n",
      ">Rosalind_1263\n",
      "TTTCACGGGTCGGATTGGGCTCAGGGGAAGATCCTGAATTCTAACGCTGTATTAGAACCC\n",
      "CGGCTACATAATGTACTCTGTGAATCAGTTCTCTTATCGTAGCCCCTTCTTATATTAACC\n",
      "TCGATCGCAACGTCTTGGTTATACCTGGGCGAAAAGCCTCATACTGCCGGCAATGTACGT\n",
      "GTAAGAAAAGCTCCTGATCGCGATCCATGGTCGATTCACTAGAACCGTGTCCGCAGGGGG\n",
      "GAGACGTGTCCAGATTCACCTCATTTTTAAGGCCCGTCGGACACCAGTACGATACTATCG\n",
      "ATGGGCCACTCCATCCTGCAAGATTGCGCACGTCCCTAAGAACTAACCTGTCTACGCGTT\n",
      "GAAGCGCATGTCCCCTCTGTAATATCCGACCAGGATGGGTATGTACCATTACAGACCAGA\n",
      "AAATAAATAGCGGTCGGCTCCTAAGGCTCAGCATTTCGTCGCGACGAAATCTTCTTCCAC\n",
      "GATACGCTCAGTCCGCTAAATGGTCTTTACCCGCATAGCACTGCGTGCATGGGCTAAGGG\n",
      "TAGATACTGTGTCAGTCGACAGGTTGACGGGGCCTTCGTAACGTAGCAGGGCTGTCCGAT\n",
      "GGACCGAACTAGAGTCAAGTATCAGGGGCACAGTGAAGGCCTGCAGCCACATATGACAAC\n",
      "CAGACCAATCTTCTGGTTCCAGCCTCACTGATGATTCAGTTCGCGGGTGGAGTTCGCGGT\n",
      "ACCACCGCAACTGCGAACCACACAATTATATCCCCTTACTCTGATGCTAGCTTGTCTGTC\n",
      "CCAACAGGATCACCGCCTTGGGTATAGTATAATTCTTAAGGAGGATGACGTCACTTCGCC\n",
      "GGAGATGGGTTATCGGTCTGTCTATCGAGATGTGTGGACTGCAGTTGCAGGCCGGCGAGT\n",
      "CGGG\n",
      ">Rosalind_8880\n",
      "CGACTATTGCATTGACTCTTTCTGTGGCTTGAGAAATAGGACTCGGTTCAGCCATGCCTT\n",
      "TGCTAAGCCTTGACACCATACGGGCTTTATCTTTGGAATGGGAGGTATAAGGCAACGCGG\n",
      "TATGTCCGTATCAGGCAGCTGTATTGTGCACGCGGGAAATGCCTTGGTCAGAGGAGTGAA\n",
      "AACGTGGGCGCATCTTCGCCCGTGCTGGGCATCACACTCAGTCCGTAATGAGTATGTAGC\n",
      "CCCTCTAAACGCTCTGAATAGGGGTTTAGATCAAACGAGGGAATCAGCAGTTCACTAGAA\n",
      "CGCAGATCCTATGGTCGTGCATTGCAGCGTGCTCTGAATATTGATAGCTTGCGGGTACCT\n",
      "TATTGAGTGGATAATTTAAGCCTCTTTGTGTCGACTAACTAGCTTGGGTTTGAGCGCTTC\n",
      "GAGAGGTACCTGGTCGGAGATTTATCTCCTGTCAGCCGCAGCGGTTGCTGGTGCCCATTT\n",
      "GACTAGTTAATGTCCCAAGATGAGAATTGCCAACTACGGATATAGATGCTTCGGTAATGG\n",
      "CGACTTTTACGACATTATATTTCGCCAAGTCCACGAGACTGTCGGGGTCGCGGATTTACT\n",
      "ACGCACATATATGTCCCCTGCGCAGTATATGAATACGCCAGGCCCTCCGGCGGCACCACA\n",
      "ACCCCTCGTGATCTCGGCTAGGATTACCAACATTTATACATGTCATAACGATTAGGAGGG\n",
      "TCACGACTAACCTTACAGTTACACGCCAATCTAGGAGAGGTTGGTTTTTCATAAGTGAGT\n",
      "TATATTCCCCGGCGTTCTACTCATTAGTGGAGTAAAGCTTGCGTGCATGCTGACCCTGGA\n",
      "CCCGCCAACGAATATCTCGATTTTGCATTACCTTTATTTCACTTGTGCGACGCCGTGACT\n",
      "GAAC\n",
      ">Rosalind_5027\n",
      "ATTGACTAAATTCTATTTTGGACTGATTCCGGAGGTAGATTATTGTTTTAACATGTCAAA\n",
      "ATGTGTAATCGCACCTCAAGGGACCGGAGGCGACCTCACTGGTTCGTTACAAGTGTGAGA\n",
      "CGGACTGCCACACGCAACTTTAAGAAGTGCGTGACGTACCTCAGCGCCGCACTGCCTATA\n",
      "GGGGTGTTTGTCACTCCGGGAGTAGGTGATCAGGCCGAAGACATATTTTCGATCTACAAC\n",
      "TAGAATATTGCTATAGGGGACAGGCCAGAGAGATACCTAGTAAGACGGAAAGACAAAACT\n",
      "GGAGCGTAGAACGTCCTCATGACGTTAAGAGCGTGTAATGCGAGCCGAGAGTCTGTCCCT\n",
      "CGAACTATGATCGAGGGAAAGACTGAAGTATGTCTTGGAATCTTTCCAGAACCATTATTG\n",
      "CAAAAGACTTTAATTGCGCTCCCTTACTGCCCCATCCGATCAAGCAGAGTAACTATTGCT\n",
      "TCAGGAGAGACTGCCTCAACAAATCTCTTTGCTACTTCCGTCAAATAACCCCCTTGGCTG\n",
      "CGAACAAAATGGAACTGGGCGACAAGCTAATCTTAAGCCTCGACGTGACGGCGCTAAACG\n",
      "TCTAATGGCTTTTGAGCTGACGCTTTAAAGCCTGGATTTGCGATACTACCAAGAATGGCT\n",
      "GCGCATGTGGAGGATCAACCTACTGGTATCAGAATACACTCTTTACGTGCTGGGGTACTT\n",
      "GCCGCTGGCCATCAAGCGATCAGCAGTGCGGTAGTCAGCTATCGGAAGTTCTATTAGTTC\n",
      "CAATGCTAAACCGAGAACGGAAGAGTTTATTCCTAGCCTACTACCTAATCCATAGTCCGT\n",
      "ACTTTTTCGCTCAAATTTTAATGCAGATATCTAATGCTTCCACAAGTAACGCTGACCCGG\n",
      "TAAA\n",
      ">Rosalind_8614\n",
      "GCACAGCCCCGCTTGCTGGGACAACGGACAAATGAGTACCCCCGGTAATGTGCATAAGAA\n",
      "CCAACATAGTAGTATTATTGAGACAACCTTGGGGCTCGTCAAGTTGGCTCAGCCATCCAT\n",
      "AGGCAACTGTGATATACAGGTAGTGCAAAGTGGACAGAACGACGCAGACACCCCTATCCC\n",
      "ATGCACGTTTGGCCGACCCCAGGCAAGGGCTGGTTGGTATTCATTACCTATTATGCGCAA\n",
      "GATTCTCAGTGGCCAATGGATCTTGACTTCGAATTTGAAGCTGCATTCCTTGATTAGAAA\n",
      "CGTGGCGGAAAAACCATTAGGCCTGTCTGCACATCACTGAACGTCTTGGTTGGAAAGGTT\n",
      "CATAGTGAGTGGAAATGGAAGCAGGTCTGGACCCACTCATGATATATCTCCAGTAACCAA\n",
      "CTCCCAGTGACTTCCCCCAATAGCAATCCTCTGAGCTTTAATCCGTGGTTGATACAAAGA\n",
      "GGTCCAAGGTCTCAATTTAGATGATCTAATTCCACAAAGCGTTTCATTATCCATTTAAGC\n",
      "TTAAAACACAAAACCTCAGAGCCGGGAGAGAACCGAACGGTATATCCCGGGATCATAGTT\n",
      "ATTTCCACATCCATTATTCACGGGGGCGCGGAGTCCCGTACGATGGTGATACCAGGCAGA\n",
      "CACGGGAACTTATCCACAATGTTCCGACTGCTCTCCGTTGGGGCCAGATGAAACTTAAGT\n",
      "CCGTTGTCTGTGGTGGAAGTATAGTGTAAGTTAGACAAAACCCTCGCAGTCATCTTAAAC\n",
      "GATCCCCTATGGCCAACTTGTCTCGGAATTGTCCCTAGTGAAGTTTAAAACGTATCTAAT\n",
      "CACAAAGAAATGTGATCCATTCGCGTAGGGGAATCGACGCCTACGGTCTGAGCTCGTGCG\n",
      "GGTT\n",
      ">Rosalind_7193\n",
      "CTTCAATGTGTCTCATGAGGAACTGACGTCGAAGGGCCTTCGGGCAACCTACCCATCTGG\n",
      "GTCGTTCCCCACAGATGGACTTCACTCGAGATGGGGTCATAGTCTCCCCGGTATTCGAGA\n",
      "GCCTCAGTCCGCTAACTTATGTCTACTAGACGGTTTGTCATGTGTAATCAGCTTAACCAC\n",
      "TTCATTCCAAGCGATGAGCGTACATTCCGTAAGCCTACCACCCCAGCAATTCTTTGTAAC\n",
      "ACTGCCGCTTGTCCCTGGGAATTTGCACCTCGTCGGAACCGAATCGGCTCTGCCAAGTTG\n",
      "ATCGCTGTTAGGGTGATAGGATTGCACCCTTCACTATGCTTATTATACGGAAATGTGCTC\n",
      "GATAAGCCACCGGCAATGGTGTGGAGCATAGACTAGGATCAATTCCATCATAATTGTGAT\n",
      "GCTATCGGGTCACCAACAGTGGCGCAGACTAACACGGCCTCGTAATGACCGGAATGGCCA\n",
      "TCGATATCAGCAGGAGATTCTTCGGGGATCCTGCAATACCCTTCGCCTACGACATTATAG\n",
      "GGAAGTTAACGGATTTCACTCGTAGGGAAGTGGCACAATAGCCTTAGCTCGTCGAAAGGT\n",
      "CAATACGAGAATTGGACAGAGTGAAATTTCGGTTTGCCGAAGCGAATATTTTGGGGAGGG\n",
      "CGCAAGCCGAGACGACCGGCGGTGTAGGAGCGAGCGGACTTAGGTCGAGCCAGTTTAGAT\n",
      "CCGGAGAAGTGGTTCCGGATAGCCCCATTTTGCTTTCCGCATGGGGAAATGTAGAAAGTT\n",
      "TTCGTCAGATGATGTCTACTGGGCCCCCGAATCACAAGGATCTTATCCAACTAAGATTGG\n",
      "AGAAGGCTGTTGAGGCCCATTGGTGACGGCCGCATTAAAATGCTATCCCGCTGCGGGACC\n",
      "TGCT\n"
     ]
    }
   ],
   "source": [
    "%%bash\n",
    "cp ~/Downloads/rosalind_cons.txt ./\n",
    "cat rosalind_cons.txt"
   ]
  },
  {
   "cell_type": "markdown",
   "metadata": {},
   "source": [
    "# Solution to Downloaded Dataset"
   ]
  },
  {
   "cell_type": "code",
   "execution_count": 11,
   "metadata": {
    "collapsed": false
   },
   "outputs": [],
   "source": [
    "consensusAndProfileFromFileToFile(\"rosalind_cons.txt\", \"Solution_Output.txt\")"
   ]
  },
  {
   "cell_type": "code",
   "execution_count": 12,
   "metadata": {
    "collapsed": false
   },
   "outputs": [
    {
     "name": "stdout",
     "output_type": "stream",
     "text": [
      "TTACACTGGAAGGGAAGGGGACAGGATACCGACAAGTGGTCCGACAGACTATAAGACCAACCCCAAGATCTCACAACCAGCGAGCAGCTTATGGAACCATAAAGCGTTATAACTATGAGAGATTCAGCGCAAAATAACTTGAATGCGAAACGGAAGAACCGCATTACGGACATCCAACAAATAGGTATTGAGCCTTCGCGAGCAGCGGGTAAGACCCCCACCAAATAATGTTTTGCTAACAAGCCAAGTCGTACAACGGATGGTGCTCAAGGACAGGAAGGAACCCGCAATAAACAAAAGATAGCATAAAACACACTAGAAAAGAGCCCAACACCAAACGAGGAACGCGGGGTGATAGTTGATCGTCTGGACAAAGGGAAGAAAATCGTAGACAATAAATTATTTCCATATGAAATCATACAGAAAATACCGGCCTCAATCCAAAACTCTCACATCCGATCGGACTGATTGAGACTACCTGCTACAGAATCTGCCCTAAGTTATCCTATCACACATAAGAGTAAGTTTTGGCCATAAGTGCGGAATAAATGAAATTCAACGTGAGGAAAGTGCCTAAGTAGAGTATGAAGGCGATTAGGTGAACAGAAAGATTGTACGGACGCAGACTCAGGATGACGCGAGACAATAATCGGGAGCACCGACCCGAAGGATGTGGCTGCGGATTGAATAATAACACACTTAGGACGTGGAAGTATACGTCCGCGGCAAACCTTAGGGCTATACACTAAGTTAGGAGACCATGGCGAAACCAAGGAAATCCATGGCCGATGACAGACTTGGGACGACTAGATCAAAAGTAAAGCATGTCACGCATTTGGTCAAGAAGGGATAAATTTCAATTGCGCAGAACCATCGAATCGTATATGCAGCCCATGGAGGTAAT\n",
      "A: 3 0 7 1 5 2 1 2 1 3 3 0 1 2 4 3 1 2 2 1 5 3 4 3 1 4 2 4 2 2 4 4 2 4 3 3 3 3 2 0 2 2 2 4 0 4 3 5 1 2 4 2 4 5 2 3 3 2 4 3 1 1 1 2 3 3 1 4 0 3 3 1 7 1 4 3 2 2 4 2 2 1 4 2 2 3 1 2 3 0 3 0 2 1 3 4 2 2 5 1 4 4 3 2 0 2 2 3 3 1 4 4 3 2 4 1 2 5 3 5 1 3 1 3 2 5 2 2 1 4 3 3 5 3 2 4 3 2 2 2 1 5 4 1 2 2 3 4 4 5 0 2 3 4 3 1 4 5 2 2 1 2 4 2 1 6 1 1 0 6 3 4 3 1 2 4 3 2 3 3 4 2 3 3 1 1 4 1 2 3 3 1 2 3 1 1 2 2 3 3 3 2 2 3 1 1 2 2 2 2 4 5 0 4 1 1 2 3 3 4 2 0 4 3 4 2 4 5 3 2 2 1 3 2 1 1 1 4 4 1 3 5 2 2 3 4 3 2 1 2 1 1 4 2 4 3 2 3 2 5 2 1 2 0 0 3 3 2 3 5 2 2 5 1 4 1 1 5 4 1 3 6 4 2 2 2 1 1 5 4 3 4 4 3 2 4 4 5 4 3 5 1 4 2 2 4 1 3 3 4 5 2 3 0 3 2 0 4 2 5 5 3 3 2 3 2 1 3 0 4 3 1 3 2 0 4 4 6 1 2 4 2 2 3 4 2 1 2 0 2 1 1 1 2 3 3 3 2 0 1 2 5 3 3 2 2 3 2 2 1 3 1 5 4 3 2 0 3 4 3 1 5 4 3 4 2 1 1 1 3 2 4 1 3 4 2 3 4 3 2 3 5 1 2 3 2 2 4 1 3 3 2 5 4 4 1 1 4 2 3 2 3 2 4 3 3 3 2 4 2 3 4 2 2 2 2 0 4 4 3 2 1 3 3 3 3 1 3 2 2 3 5 3 5 1 0 1 0 3 2 2 2 2 4 2 2 2 4 2 0 1 3 1 4 1 3 3 3 2 2 2 2 2 3 1 6 3 3 3 3 1 2 0 1 2 2 2 4 3 2 3 2 3 1 1 2 1 3 2 2 4 2 4 3 4 3 3 4 2 6 1 2 4 4 1 3 1 1 3 1 1 3 1 4 4 4 7 2 2 1 1 2 4 5 3 4 4 5 3 2 2 4 6 4 1 0 2 3 4 1 2 3 0 3 2 0 3 3 4 2 1 3 2 0 2 6 5 2 0 3 3 4 2 3 3 3 1 3 3 1 2 1 2 4 3 2 6 3 1 1 2 4 5 2 4 1 7 5 4 2 5 0 2 3 1 4 1 2 2 4 2 1 2 3 2 3 2 2 3 4 1 3 3 1 2 3 3 2 0 3 4 2 3 0 6 3 3 4 3 0 3 2 2 2 6 2 3 4 2 2 1 3 1 2 3 0 5 5 2 1 6 2 1 1 3 1 2 3 1 1 2 1 3 2 3 3 3 4 3 3 4 1 4 4 0 3 2 6 0 1 0 3 0 1 3 2 4 3 0 0 5 4 1 2 3 2 6 2 3 1 2 2 1 1 2 2 1 3 5 3 2 2 2 1 3 1 3 2 2 3 5 2 3 3 3 0 3 3 4 2 0 0 4 0 2 3 2 6 2 2 4 2 1 1 1 1 4 6 3 0 3 4 4 1 2 5 4 5 1 1 1 3 3 2 1 2 3 2 5 3 1 4 1 4 2 5 1 1 3 0 1 3 3 3 1 3 2 4 4 2 4 3 2 3 5 5 3 1 1 4 4 3 2 2 4 3 3 3 2 3 2 2 3 6 1 1 2 2 2 2 3 3 4 2 3 4 2 2 1 3 1 3 4 4 2 1 2 1 4 3 1 3 2 3 1 2 4 2 4 6 0 2 4 3 2 2 5 3 1 4 3 2 3 2 5 3 1 2 5 3 3 2 2 3 1 1 1 4 2 0 1 4 4 2\n",
      "C: 2 2 0 5 1 3 3 2 2 3 1 3 1 3 2 3 1 2 0 1 1 5 2 0 2 1 1 2 4 3 0 2 4 2 1 1 2 3 2 3 4 4 2 2 4 0 1 1 4 3 2 3 4 1 2 2 5 4 1 1 5 4 4 4 2 1 3 3 3 5 1 4 0 4 3 3 3 3 1 2 3 4 1 4 4 3 2 4 2 2 3 1 2 1 2 2 4 3 1 2 2 2 2 2 4 2 3 2 3 3 0 1 4 2 1 3 2 4 2 2 1 3 1 1 3 4 3 3 4 5 2 2 1 2 2 3 1 4 1 1 2 1 2 2 2 4 1 0 2 2 4 2 2 0 2 2 1 1 4 5 3 4 4 1 4 1 5 3 3 2 4 4 2 4 3 2 2 4 2 3 1 1 3 2 0 2 2 3 1 2 3 3 3 4 2 3 4 1 4 3 3 1 5 2 3 4 1 2 1 2 3 1 2 3 4 4 3 4 5 1 4 6 3 2 2 3 3 1 1 2 2 2 0 3 1 5 1 3 2 5 3 2 3 3 6 1 2 2 3 4 4 2 2 5 2 1 4 1 2 3 3 3 0 3 3 4 2 3 3 2 3 3 2 5 1 3 3 3 1 3 1 2 3 3 5 3 2 4 2 2 0 0 3 2 5 0 2 1 3 1 3 0 2 0 4 3 2 1 3 1 1 4 2 5 3 4 1 1 1 1 1 2 3 2 3 2 5 4 4 1 3 5 3 3 4 2 1 1 4 2 1 3 3 2 2 4 3 5 1 2 0 3 2 2 1 0 3 3 2 3 3 0 0 4 2 1 4 2 2 4 2 4 2 3 2 2 3 0 3 3 2 3 3 2 1 1 5 2 2 2 2 2 5 3 2 1 1 3 1 2 0 2 2 2 2 4 4 2 3 3 1 3 1 1 1 1 5 3 2 2 5 2 2 2 1 2 2 2 1 3 4 0 2 3 5 1 4 3 1 3 3 4 3 3 2 1 4 3 4 2 4 2 5 1 1 5 4 1 3 1 4 3 2 2 4 3 2 2 2 4 3 2 2 2 4 2 3 4 4 2 2 3 1 2 4 0 1 2 3 1 6 2 4 5 4 3 2 1 2 4 0 1 1 0 4 3 3 2 1 3 3 5 2 4 3 2 1 1 3 2 3 2 1 3 3 2 3 3 2 3 2 4 4 2 0 1 1 2 1 3 4 0 0 1 2 1 2 1 1 3 1 1 2 3 2 2 5 2 4 4 1 1 4 3 1 1 2 3 2 0 1 2 3 7 1 3 2 2 2 1 2 2 2 1 1 1 3 3 3 2 1 5 1 2 1 2 2 2 3 0 3 3 0 4 2 4 0 3 3 0 2 3 1 0 2 4 5 1 1 0 4 1 5 1 2 1 4 1 4 1 3 2 1 2 2 3 4 3 4 2 3 0 3 4 1 2 3 3 3 2 4 2 2 2 1 2 4 1 4 4 3 3 5 5 4 2 2 2 3 2 0 3 3 2 2 2 3 1 4 5 1 2 3 3 1 1 2 3 1 1 4 1 2 2 4 3 4 1 4 2 1 3 2 3 2 4 0 2 2 3 3 1 1 2 2 1 3 4 1 2 5 5 3 4 2 3 5 3 3 3 3 3 1 2 2 3 1 2 5 2 3 2 2 6 3 6 3 3 2 2 3 2 4 2 2 2 3 3 3 3 3 1 4 2 4 3 3 0 2 5 5 1 0 2 2 3 1 2 0 6 5 2 1 3 3 4 4 3 3 1 2 3 4 2 0 3 5 3 1 2 3 3 2 4 1 3 3 1 1 1 0 2 3 1 4 1 3 4 2 0 1 3 0 3 1 1 2 3 4 3 4 3 4 3 2 2 2 1 2 2 4 2 3 1 2 2 2 3 3 3 1 2 2 2 1 3 3 6 1 1 2 2 0 4 1 4 1 2 0 2 5 3 3 2 4 2 3 3 2 5 2 2 3 2 0 1 3 5 2 2 4 3 5 2 2 3 1 3 3 3 2 1 3 2\n",
      "G: 1 2 0 4 2 2 2 5 4 1 3 5 5 3 1 1 4 5 5 6 1 1 0 4 5 3 3 1 0 2 5 3 2 3 3 4 1 4 3 3 3 2 3 2 3 3 4 1 1 1 2 1 0 0 3 2 2 2 3 3 2 3 2 1 3 3 4 3 2 0 2 3 1 2 0 1 2 2 1 5 2 4 3 4 2 2 4 2 1 3 3 3 3 5 3 2 1 2 2 3 2 4 2 3 3 4 1 0 2 1 4 3 2 2 3 0 3 0 4 1 4 2 3 1 2 0 3 2 4 0 3 2 1 3 2 2 3 3 3 3 4 0 3 3 3 2 4 3 4 2 3 4 5 4 3 5 3 0 2 1 3 3 0 3 0 3 4 4 4 2 3 0 1 3 2 1 2 2 2 1 2 2 3 4 5 3 3 2 2 4 2 4 2 1 2 2 3 5 2 4 2 6 1 3 3 3 4 4 7 2 0 1 5 1 3 2 2 0 1 3 2 2 1 2 1 1 2 2 1 4 2 3 3 0 4 3 3 2 3 2 2 0 3 2 0 2 3 3 2 1 5 2 1 0 2 3 2 6 5 1 1 4 4 2 4 1 1 2 2 2 4 4 1 0 3 4 3 1 3 5 4 1 1 2 0 2 5 3 1 3 2 4 1 3 1 4 3 2 0 4 2 4 1 5 3 1 3 3 1 2 3 2 3 1 2 3 2 2 5 3 3 3 1 4 1 3 4 1 3 1 2 2 2 2 2 2 1 2 2 3 2 3 3 2 2 2 5 3 5 4 5 3 3 3 3 2 2 3 3 1 3 3 1 2 3 3 2 2 4 4 2 3 3 3 2 3 4 5 2 2 5 0 1 3 2 3 2 4 2 2 3 2 3 1 1 2 3 3 3 2 2 1 2 1 1 3 2 2 2 1 2 3 2 3 1 3 1 1 2 2 3 2 4 1 3 3 2 1 2 2 1 5 4 2 1 3 2 2 2 0 2 2 2 1 3 3 1 0 1 2 2 1 2 2 3 3 2 5 2 3 3 3 5 3 2 1 5 2 2 1 5 2 4 1 2 1 1 1 2 2 4 2 3 3 2 4 4 2 2 2 2 1 5 2 2 2 2 1 3 4 1 2 3 2 3 2 2 2 3 2 1 2 2 1 1 0 3 3 4 2 3 2 1 1 6 1 2 2 1 3 5 3 3 2 1 3 2 3 3 5 2 7 5 1 2 0 0 1 3 1 6 3 2 1 3 2 1 2 2 2 4 2 5 2 5 7 3 2 3 7 3 4 2 0 2 0 2 3 3 3 4 3 3 1 3 2 4 3 3 7 6 2 4 2 1 2 1 4 4 3 3 2 3 0 1 4 2 1 3 4 1 2 2 4 3 2 1 4 5 3 3 6 2 3 5 3 2 3 2 3 4 4 3 2 3 2 1 4 3 4 2 5 3 2 1 3 0 2 2 3 0 3 5 3 3 4 3 4 2 2 3 3 2 2 1 6 3 2 3 4 2 1 3 1 4 5 2 1 4 0 4 4 2 1 2 5 2 2 0 3 1 3 3 2 3 2 3 1 3 2 4 3 5 4 2 3 6 1 7 5 1 3 5 2 3 3 0 3 4 1 2 0 4 3 3 4 3 3 1 2 2 2 2 2 2 4 5 4 1 1 1 1 2 1 2 3 0 1 2 3 1 3 1 5 3 2 3 1 2 2 2 2 4 5 2 3 1 1 2 1 2 1 2 4 3 0 2 2 3 0 2 2 1 4 3 1 1 4 0 1 6 2 2 2 4 1 1 0 2 4 4 4 2 1 4 3 2 0 2 4 3 1 2 3 1 2 3 4 3 4 3 1 4 2 4 1 4 0 3 3 0 3 0 0 3 2 1 6 4 2 1 3 2 4 3 2 4 3 5 2 3 3 0 3 3 2 0 1 1 3 1 1 4 1 5 3 2 3 4 1 2 2 1 1 0 5 1 2 3 0 4 2 1 2 3 2 3 1 2 4 3 2 1 2 3 3 4 3 3 4 3 3 2 2\n",
      "T: 4 6 3 0 2 3 4 1 3 3 3 2 3 2 3 3 4 1 3 2 3 1 4 3 2 2 4 3 4 3 1 1 2 1 3 2 4 0 3 4 1 2 3 2 3 3 2 3 4 4 2 4 2 4 3 3 0 2 2 3 2 2 3 3 2 3 2 0 5 2 4 2 2 3 3 3 3 3 4 1 3 1 2 0 2 2 3 2 4 5 1 6 3 3 2 2 3 3 2 4 2 0 3 3 3 2 4 5 2 5 2 2 1 4 2 6 3 1 1 2 4 2 5 5 3 1 2 3 1 1 2 3 3 2 4 1 3 1 4 4 3 4 1 4 3 2 2 3 0 1 3 2 0 2 2 2 2 4 2 2 3 1 2 4 5 0 0 2 3 0 0 2 4 2 3 3 3 2 3 3 3 5 1 1 4 4 1 4 5 1 2 2 3 2 5 4 1 2 1 0 2 1 2 2 3 2 3 2 0 4 3 3 3 2 2 3 3 3 1 2 2 2 2 3 3 4 1 2 5 2 4 4 4 5 4 1 5 1 1 2 2 3 2 3 1 3 2 3 4 3 0 5 3 3 2 3 2 0 1 1 4 2 4 5 3 2 4 3 2 1 1 1 2 4 2 2 3 1 2 1 2 1 2 3 3 3 2 2 2 1 5 2 2 2 2 2 1 2 3 2 0 5 3 3 1 2 4 3 3 3 1 2 2 4 2 1 7 3 2 1 1 2 3 2 3 3 0 2 3 4 2 2 2 3 4 2 4 1 3 3 3 2 2 3 2 2 1 0 4 2 4 3 4 3 3 5 2 2 5 5 2 2 6 1 3 4 1 4 2 1 3 2 0 0 3 3 3 2 1 2 2 2 2 2 3 4 2 3 5 3 3 2 1 3 3 5 3 0 3 4 5 2 5 5 4 1 2 2 4 3 4 2 2 2 4 5 3 2 4 3 0 3 2 3 3 2 3 5 3 3 2 1 2 3 2 4 4 1 3 4 3 3 2 3 2 3 4 4 3 4 1 2 0 2 5 2 3 4 2 4 1 2 1 1 2 4 1 2 4 5 1 3 3 3 3 4 3 2 2 4 2 3 4 2 3 0 2 3 2 4 1 5 1 2 2 3 4 4 2 0 6 5 3 7 2 3 4 3 4 3 2 1 2 2 2 5 3 2 1 0 3 4 4 2 0 4 4 4 4 3 2 0 2 2 5 2 0 3 4 1 3 1 1 3 3 5 4 3 3 4 1 2 0 2 4 6 2 3 0 3 3 4 1 2 2 2 2 2 1 1 5 1 3 3 5 1 1 3 5 3 1 1 3 5 3 4 2 1 1 0 1 2 3 2 5 4 1 1 2 6 2 1 2 4 3 1 1 1 0 4 2 5 5 3 4 0 3 3 2 3 1 2 1 3 1 3 2 4 1 2 2 1 3 5 3 2 2 1 3 1 1 3 1 4 2 2 4 1 2 5 3 3 1 3 0 2 0 1 2 2 3 1 2 1 2 2 0 1 2 3 2 4 3 6 1 2 3 5 1 4 3 3 2 4 4 1 3 1 6 3 1 5 1 2 3 2 1 2 3 5 5 1 3 2 3 1 0 4 1 2 1 2 3 4 2 4 1 1 2 6 1 3 2 2 3 1 1 1 1 2 3 3 5 5 3 2 1 2 2 4 1 5 3 0 2 1 4 3 2 3 6 5 1 3 3 3 2 0 3 3 1 5 1 2 3 3 2 3 3 4 0 4 4 3 3 2 3 1 6 3 2 3 5 1 3 3 2 1 2 5 1 1 3 2 4 1 3 6 4 4 2 0 3 2 4 1 3 5 3 3 3 4 3 3 0 2 1 1 4 2 2 3 4 3 1 5 1 4 1 1 4 2 3 1 4 5 5 1 2 4 2 2 1 3 2 2 2 2 1 2 5 2 4 1 4 4 5 2 4 3 6 4 4 2 3 1 3 3 2 1 3 3 2 4 4 1 1 2 4 1 1 4 3 4 2 4 3 2 1 1 0 3 2 3 4 3 4 0 2 3 4 2 1 4\n"
     ]
    }
   ],
   "source": [
    "%%bash\n",
    "cat Solution_Output.txt"
   ]
  }
 ],
 "metadata": {
  "kernelspec": {
   "display_name": "Python 3",
   "language": "python",
   "name": "python3"
  },
  "language_info": {
   "codemirror_mode": {
    "name": "ipython",
    "version": 3
   },
   "file_extension": ".py",
   "mimetype": "text/x-python",
   "name": "python",
   "nbconvert_exporter": "python",
   "pygments_lexer": "ipython3",
   "version": "3.5.2"
  }
 },
 "nbformat": 4,
 "nbformat_minor": 1
}
