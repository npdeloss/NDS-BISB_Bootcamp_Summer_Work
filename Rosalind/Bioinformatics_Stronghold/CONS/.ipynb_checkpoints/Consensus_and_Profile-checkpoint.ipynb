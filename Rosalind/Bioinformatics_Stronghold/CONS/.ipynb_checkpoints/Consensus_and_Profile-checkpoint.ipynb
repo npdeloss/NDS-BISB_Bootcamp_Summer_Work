{
 "cells": [
  {
   "cell_type": "markdown",
   "metadata": {},
   "source": [
    "# Consensus and Profile\n",
    "**Given:** A collection of at most 10 DNA strings of equal length (at most 1 kbp) in FASTA format.\n",
    "\n",
    "**Return:** A consensus string and profile matrix for the collection. (If several possible consensus strings exist, then you may return any one of them.)\n"
   ]
  },
  {
   "cell_type": "markdown",
   "metadata": {},
   "source": [
    "# Sample Dataset"
   ]
  },
  {
   "cell_type": "code",
   "execution_count": 1,
   "metadata": {
    "collapsed": false
   },
   "outputs": [
    {
     "name": "stdout",
     "output_type": "stream",
     "text": [
      "Overwriting Sample_Dataset.txt\n"
     ]
    }
   ],
   "source": [
    "%%file Sample_Dataset.txt\n",
    ">Rosalind_1\n",
    "ATCCAGCT\n",
    ">Rosalind_2\n",
    "GGGCAACT\n",
    ">Rosalind_3\n",
    "ATGGATCT\n",
    ">Rosalind_4\n",
    "AAGCAACC\n",
    ">Rosalind_5\n",
    "TTGGAACT\n",
    ">Rosalind_6\n",
    "ATGCCATT\n",
    ">Rosalind_7\n",
    "ATGGCACT\n"
   ]
  },
  {
   "cell_type": "markdown",
   "metadata": {},
   "source": [
    "# Sample Output"
   ]
  },
  {
   "cell_type": "code",
   "execution_count": 2,
   "metadata": {
    "collapsed": false
   },
   "outputs": [
    {
     "name": "stdout",
     "output_type": "stream",
     "text": [
      "Overwriting Sample_Output.txt\n"
     ]
    }
   ],
   "source": [
    "%%file Sample_Output.txt\n",
    "ATGCAACT\n",
    "A: 5 1 0 0 5 5 0 0\n",
    "C: 0 0 1 4 2 0 6 1\n",
    "G: 1 1 6 3 0 1 0 0\n",
    "T: 1 5 0 0 0 1 1 6\n",
    "\n"
   ]
  },
  {
   "cell_type": "markdown",
   "metadata": {},
   "source": [
    "# Solution"
   ]
  },
  {
   "cell_type": "code",
   "execution_count": 3,
   "metadata": {
    "collapsed": false
   },
   "outputs": [],
   "source": [
    "class FastaRecord:\n",
    "    def __init__(self, name, sequence=\"\"):\n",
    "        self.name = name\n",
    "        self.sequence = sequence\n",
    "\n",
    "def parseFastaFile(fasta_file_path):\n",
    "    fasta_file = open(fasta_file_path,'r')\n",
    "    fasta_file_lines = fasta_file.readlines()\n",
    "    \n",
    "    fasta_records = []\n",
    "    \n",
    "    for line in fasta_file_lines:\n",
    "        if line[0] == \">\":\n",
    "            fasta_records.append(FastaRecord(line[1:].rstrip()))\n",
    "        else:\n",
    "            fasta_records[-1].sequence += line.rstrip()\n",
    "    \n",
    "    fasta_file.close()\n",
    "    \n",
    "    return fasta_records\n"
   ]
  },
  {
   "cell_type": "code",
   "execution_count": 4,
   "metadata": {
    "collapsed": false
   },
   "outputs": [],
   "source": [
    "class ConsensusAndProfile:\n",
    "\n",
    "    def __init__(self, fasta_records):\n",
    "        \"Given a collection of at most 10 DNA strings of equal length (at most 1 kbp) in FASTA format, return a consensus string and profile matrix for the collection. (If several possible consensus strings exist, then you may return any one of them.)\"\n",
    "        \n",
    "        self.consensus = \"\"\n",
    "        self.profile = {'A':[], 'C':[], 'G':[], 'T':[]}\n",
    "        \n",
    "        sequences = [fasta_record.sequence for fasta_record in fasta_records]\n",
    "        list_of_zipped_sequences = list(zip(*sequences))\n",
    "        transposed_sequences = [\"\".join(position) for position in list_of_zipped_sequences]\n",
    "        \n",
    "        for base_position in transposed_sequences:\n",
    "            base_consensus = \"\"\n",
    "            max_base_count = 0\n",
    "            for base in list(self.profile.keys()):\n",
    "                base_count = base_position.count(base)\n",
    "                self.profile[base].append(base_count)\n",
    "                if base_count > max_base_count:\n",
    "                    max_base_count = base_count\n",
    "                    base_consensus = base\n",
    "            self.consensus += base_consensus\n",
    "    \n",
    "    def __str__(self):\n",
    "        summary_string = \"\"\n",
    "        summary_string += self.consensus\n",
    "        summary_string += \"\\n\"\n",
    "        \n",
    "        summary_string += \"A: \"\n",
    "        summary_string += \" \".join(map(str, self.profile['A']))\n",
    "        summary_string += \"\\n\"\n",
    "        \n",
    "        summary_string += \"C: \"\n",
    "        summary_string += \" \".join(map(str, self.profile['C']))\n",
    "        summary_string += \"\\n\"\n",
    "        \n",
    "        summary_string += \"G: \"\n",
    "        summary_string += \" \".join(map(str, self.profile['G']))\n",
    "        summary_string += \"\\n\"\n",
    "        \n",
    "        summary_string += \"T: \"\n",
    "        summary_string += \" \".join(map(str, self.profile['T']))\n",
    "        summary_string += \"\\n\"\n",
    "        \n",
    "        return summary_string\n",
    "    \n",
    "    def __repr__(self):\n",
    "        return \"%s\" % str(self)\n"
   ]
  },
  {
   "cell_type": "code",
   "execution_count": 5,
   "metadata": {
    "collapsed": true
   },
   "outputs": [],
   "source": [
    "def consensusAndProfileFromFileToFile(input_file_path, output_file_path):\n",
    "    \"Wraps ConsensusAndProfile to read from input_file_path and write to output_file_path\"\n",
    "    \n",
    "    fasta_records = parseFastaFile(input_file_path)\n",
    "    consensus_and_profile = ConsensusAndProfile(fasta_records)\n",
    "    \n",
    "    output_file = open(output_file_path, 'w')\n",
    "    output_file.write(\"%s\" % str(consensus_and_profile))\n",
    "    output_file.close()\n",
    "    \n",
    "    return\n"
   ]
  },
  {
   "cell_type": "markdown",
   "metadata": {},
   "source": [
    "# Test Solution"
   ]
  },
  {
   "cell_type": "code",
   "execution_count": 6,
   "metadata": {
    "collapsed": false
   },
   "outputs": [],
   "source": [
    "consensusAndProfileFromFileToFile(\"Sample_Dataset.txt\", \"Test_Output.txt\")"
   ]
  },
  {
   "cell_type": "code",
   "execution_count": 7,
   "metadata": {
    "collapsed": false
   },
   "outputs": [
    {
     "name": "stdout",
     "output_type": "stream",
     "text": [
      "Sample_Output.txt\n",
      "7ce2d1315cb7ec785ee52b68fac40bea  Sample_Output.txt\n",
      "ATGCAACT\n",
      "A: 5 1 0 0 5 5 0 0\n",
      "C: 0 0 1 4 2 0 6 1\n",
      "G: 1 1 6 3 0 1 0 0\n",
      "T: 1 5 0 0 0 1 1 6\n"
     ]
    }
   ],
   "source": [
    "%%bash\n",
    "echo Sample_Output.txt\n",
    "md5sum Sample_Output.txt\n",
    "cat Sample_Output.txt"
   ]
  },
  {
   "cell_type": "code",
   "execution_count": 8,
   "metadata": {
    "collapsed": false
   },
   "outputs": [
    {
     "name": "stdout",
     "output_type": "stream",
     "text": [
      "Test_Output.txt\n",
      "7ce2d1315cb7ec785ee52b68fac40bea  Test_Output.txt\n",
      "ATGCAACT\n",
      "A: 5 1 0 0 5 5 0 0\n",
      "C: 0 0 1 4 2 0 6 1\n",
      "G: 1 1 6 3 0 1 0 0\n",
      "T: 1 5 0 0 0 1 1 6\n"
     ]
    }
   ],
   "source": [
    "%%bash\n",
    "echo Test_Output.txt\n",
    "md5sum Test_Output.txt\n",
    "cat Test_Output.txt"
   ]
  },
  {
   "cell_type": "code",
   "execution_count": 9,
   "metadata": {
    "collapsed": false
   },
   "outputs": [
    {
     "name": "stdout",
     "output_type": "stream",
     "text": [
      "Sample output matches test output.\n"
     ]
    }
   ],
   "source": [
    "%%bash\n",
    "if [ $(md5sum Sample_Output.txt|cut -f1 -d' ') == $(md5sum Test_Output.txt|cut -f1 -d' ') ]\n",
    "then\n",
    "    echo Sample output matches test output.\n",
    "else\n",
    "    echo Sample output does not Match test output.\n",
    "fi"
   ]
  },
  {
   "cell_type": "markdown",
   "metadata": {},
   "source": [
    "# Downloaded Dataset"
   ]
  },
  {
   "cell_type": "code",
   "execution_count": 10,
   "metadata": {
    "collapsed": false
   },
   "outputs": [
    {
     "name": "stdout",
     "output_type": "stream",
     "text": [
      "GGCAGTATGCAGTATGGCAGTATGCAGTATGCAGTATGACAGTATGAGGTTTCAGTATGCCAGTATGTACAGTATGCGTCAGTATGTCAGTATGTGGCAGTATGCAGTATGCAGTATGCAGTATGGAACAGTATGCAGTATGCAGTATGTCAGTATGAGTTCAGTATGATCAGTATGCCTTGGACCCAGTATGCAGTATGATACAGTATGCAGTATGTCAGTATGATTCAGTATGTCAGTATGCCAGTATGCAGTATGATAACACAGTATGCAACCAGTATGCAGTATGCACAGTATGCCAGTATGCAGTATGGAGACATCGTCAGTATGCAGTATGCAGTATGCGCAGTATGCAGTATGAGCACAGTATGAGCTCACGCAGTATGCAGTATGTAACAGTATGCAGTATGTTCCAGTATGATTTTGTCAGTATGGTGCAGTATGCAGTATGGAAAGCAGTATGGATCAGTATGGTCAGTATGCAGTATGTACAGTATGCAGTATGATGCGCAGTATGCCGTCCAGTATGCGCAGTATGCAGTATGGAGATCAGTATGTCCAACCAGTATGTGGCAGTATGCAGTATGCAGTATGTACCCCAGTATGCAGTATGCAGTATGCAGTATGCAACAGTATGCCAGTATGACCAGTATGCAGTATGGTCGCCAGTATGAGCAGTATGTCGCAGTATGCAGTATGGGAAGCAGTATGCCAGTATGCTCAGTATGCCAGTATGGATCAGTATGTACCAGTATGATGTACAGTATGGGTGAACAGTATGCAGTATGTCAGTATGGCAGTATGTACCAGTATGTCATAACAGTATGGCAGTATGAGTGGGGCAGTATGCAGTATGCGGCAGTATGCCAGTATGCAGTATGCAGTATGCTGCAGTATGATCAGTATGACGGAACACACAGTATGACGGCAGTATGCAGTATGGCTGCAGTATGTCTTCAATTTAACAGTATGCAGTATGATCAGTATG\n",
      "CAGTATGCA\n"
     ]
    }
   ],
   "source": [
    "%%bash\n",
    "cp ~/Downloads/rosalind_cons.txt ./\n",
    "cat rosalind_cons.txt"
   ]
  },
  {
   "cell_type": "markdown",
   "metadata": {},
   "source": [
    "# Solution to Downloaded Dataset"
   ]
  },
  {
   "cell_type": "code",
   "execution_count": 11,
   "metadata": {
    "collapsed": false
   },
   "outputs": [
    {
     "ename": "FileNotFoundError",
     "evalue": "[Errno 2] No such file or directory: 'rosalind_cons.txt'",
     "output_type": "error",
     "traceback": [
      "\u001b[0;31m---------------------------------------------------------------------------\u001b[0m",
      "\u001b[0;31mFileNotFoundError\u001b[0m                         Traceback (most recent call last)",
      "\u001b[0;32m<ipython-input-11-4920b3aa1c41>\u001b[0m in \u001b[0;36m<module>\u001b[0;34m()\u001b[0m\n\u001b[0;32m----> 1\u001b[0;31m \u001b[0mconsensusAndProfileFromFileToFile\u001b[0m\u001b[0;34m(\u001b[0m\u001b[0;34m\"rosalind_cons.txt\"\u001b[0m\u001b[0;34m,\u001b[0m \u001b[0;34m\"Solution_Output.txt\"\u001b[0m\u001b[0;34m)\u001b[0m\u001b[0;34m\u001b[0m\u001b[0m\n\u001b[0m",
      "\u001b[0;32m<ipython-input-5-9fc19a93ef93>\u001b[0m in \u001b[0;36mconsensusAndProfileFromFileToFile\u001b[0;34m(input_file_path, output_file_path)\u001b[0m\n\u001b[1;32m      2\u001b[0m     \u001b[0;34m\"Wraps ConsensusAndProfile to read from input_file_path and write to output_file_path\"\u001b[0m\u001b[0;34m\u001b[0m\u001b[0m\n\u001b[1;32m      3\u001b[0m \u001b[0;34m\u001b[0m\u001b[0m\n\u001b[0;32m----> 4\u001b[0;31m     \u001b[0mfasta_records\u001b[0m \u001b[0;34m=\u001b[0m \u001b[0mparseFastaFile\u001b[0m\u001b[0;34m(\u001b[0m\u001b[0minput_file_path\u001b[0m\u001b[0;34m)\u001b[0m\u001b[0;34m\u001b[0m\u001b[0m\n\u001b[0m\u001b[1;32m      5\u001b[0m     \u001b[0mconsensus_and_profile\u001b[0m \u001b[0;34m=\u001b[0m \u001b[0mConsensusAndProfile\u001b[0m\u001b[0;34m(\u001b[0m\u001b[0mfasta_records\u001b[0m\u001b[0;34m)\u001b[0m\u001b[0;34m\u001b[0m\u001b[0m\n\u001b[1;32m      6\u001b[0m \u001b[0;34m\u001b[0m\u001b[0m\n",
      "\u001b[0;32m<ipython-input-3-c28028a75c55>\u001b[0m in \u001b[0;36mparseFastaFile\u001b[0;34m(fasta_file_path)\u001b[0m\n\u001b[1;32m      5\u001b[0m \u001b[0;34m\u001b[0m\u001b[0m\n\u001b[1;32m      6\u001b[0m \u001b[0;32mdef\u001b[0m \u001b[0mparseFastaFile\u001b[0m\u001b[0;34m(\u001b[0m\u001b[0mfasta_file_path\u001b[0m\u001b[0;34m)\u001b[0m\u001b[0;34m:\u001b[0m\u001b[0;34m\u001b[0m\u001b[0m\n\u001b[0;32m----> 7\u001b[0;31m     \u001b[0mfasta_file\u001b[0m \u001b[0;34m=\u001b[0m \u001b[0mopen\u001b[0m\u001b[0;34m(\u001b[0m\u001b[0mfasta_file_path\u001b[0m\u001b[0;34m,\u001b[0m\u001b[0;34m'r'\u001b[0m\u001b[0;34m)\u001b[0m\u001b[0;34m\u001b[0m\u001b[0m\n\u001b[0m\u001b[1;32m      8\u001b[0m     \u001b[0mfasta_file_lines\u001b[0m \u001b[0;34m=\u001b[0m \u001b[0mfasta_file\u001b[0m\u001b[0;34m.\u001b[0m\u001b[0mreadlines\u001b[0m\u001b[0;34m(\u001b[0m\u001b[0;34m)\u001b[0m\u001b[0;34m\u001b[0m\u001b[0m\n\u001b[1;32m      9\u001b[0m \u001b[0;34m\u001b[0m\u001b[0m\n",
      "\u001b[0;31mFileNotFoundError\u001b[0m: [Errno 2] No such file or directory: 'rosalind_cons.txt'"
     ]
    }
   ],
   "source": [
    "consensusAndProfileFromFileToFile(\"rosalind_cons.txt\", \"Solution_Output.txt\")"
   ]
  },
  {
   "cell_type": "code",
   "execution_count": null,
   "metadata": {
    "collapsed": false
   },
   "outputs": [],
   "source": [
    "%%bash\n",
    "cat Solution_Output.txt"
   ]
  }
 ],
 "metadata": {
  "kernelspec": {
   "display_name": "Python 3",
   "language": "python",
   "name": "python3"
  },
  "language_info": {
   "codemirror_mode": {
    "name": "ipython",
    "version": 3
   },
   "file_extension": ".py",
   "mimetype": "text/x-python",
   "name": "python",
   "nbconvert_exporter": "python",
   "pygments_lexer": "ipython3",
   "version": "3.5.2"
  }
 },
 "nbformat": 4,
 "nbformat_minor": 1
}
