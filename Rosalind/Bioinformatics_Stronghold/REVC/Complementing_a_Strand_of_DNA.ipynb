{
 "cells": [
  {
   "cell_type": "markdown",
   "metadata": {},
   "source": [
    "# Complementing a Strand of DNA\n",
    "**Given:** A DNA string *s* of length at most 1000 bp.\n",
    "\n",
    "**Return:** The reverse complement *s<sup>c</sup>* of *s*."
   ]
  },
  {
   "cell_type": "markdown",
   "metadata": {},
   "source": [
    "# Sample Dataset"
   ]
  },
  {
   "cell_type": "code",
   "execution_count": 1,
   "metadata": {
    "collapsed": false
   },
   "outputs": [
    {
     "name": "stdout",
     "output_type": "stream",
     "text": [
      "Overwriting Sample_Dataset.txt\n"
     ]
    }
   ],
   "source": [
    "%%file Sample_Dataset.txt\n",
    "AAAACCCGGT\n",
    "\n"
   ]
  },
  {
   "cell_type": "markdown",
   "metadata": {},
   "source": [
    "# Sample Output"
   ]
  },
  {
   "cell_type": "code",
   "execution_count": 2,
   "metadata": {
    "collapsed": false
   },
   "outputs": [
    {
     "name": "stdout",
     "output_type": "stream",
     "text": [
      "Overwriting Sample_Output.txt\n"
     ]
    }
   ],
   "source": [
    "%%file Sample_Output.txt\n",
    "ACCGGGTTTT\n",
    "\n"
   ]
  },
  {
   "cell_type": "markdown",
   "metadata": {},
   "source": [
    "# Solution"
   ]
  },
  {
   "cell_type": "code",
   "execution_count": 3,
   "metadata": {
    "collapsed": false
   },
   "outputs": [],
   "source": [
    "def reverseComplementDNA(input_string):\n",
    "    \"Given a DNA string s of length at most 1000 bp, return the reverse complement s^c of s\"\n",
    "    \n",
    "    output_string = input_string.translate(str.maketrans('ACGT','TGCA'))[::-1]\n",
    "    \n",
    "    return output_string\n",
    "\n",
    "def reverseComplementDNAFromFileToFile(input_file_path, output_file_path):\n",
    "    \"Wraps reverseComplementDNA to read from input_file_path and write to output_file_path\"\n",
    "    \n",
    "    input_file = open(input_file_path,'r')\n",
    "    output_file = open(output_file_path,'w')\n",
    "    \n",
    "    input_string = input_file.read().strip()\n",
    "    output_string = reverseComplementDNA(input_string)\n",
    "    \n",
    "    output_file.write(\"%s\\n\" % output_string)\n",
    "    \n",
    "    input_file.close()\n",
    "    output_file.close()\n",
    "    \n",
    "    return\n"
   ]
  },
  {
   "cell_type": "markdown",
   "metadata": {},
   "source": [
    "# Test Solution"
   ]
  },
  {
   "cell_type": "code",
   "execution_count": 4,
   "metadata": {
    "collapsed": false
   },
   "outputs": [],
   "source": [
    "reverseComplementDNAFromFileToFile(\"Sample_Dataset.txt\", \"Test_Output.txt\")"
   ]
  },
  {
   "cell_type": "code",
   "execution_count": 5,
   "metadata": {
    "collapsed": false
   },
   "outputs": [
    {
     "name": "stdout",
     "output_type": "stream",
     "text": [
      "Sample_Output.txt\n",
      "c8021a6d3900ff528dbbad9ffdefd862  Sample_Output.txt\n",
      "ACCGGGTTTT\n"
     ]
    }
   ],
   "source": [
    "%%bash\n",
    "echo Sample_Output.txt\n",
    "md5sum Sample_Output.txt\n",
    "cat Sample_Output.txt"
   ]
  },
  {
   "cell_type": "code",
   "execution_count": 6,
   "metadata": {
    "collapsed": false
   },
   "outputs": [
    {
     "name": "stdout",
     "output_type": "stream",
     "text": [
      "Test_Output.txt\n",
      "c8021a6d3900ff528dbbad9ffdefd862  Test_Output.txt\n",
      "ACCGGGTTTT\n"
     ]
    }
   ],
   "source": [
    "%%bash\n",
    "echo Test_Output.txt\n",
    "md5sum Test_Output.txt\n",
    "cat Test_Output.txt"
   ]
  },
  {
   "cell_type": "code",
   "execution_count": 7,
   "metadata": {
    "collapsed": false
   },
   "outputs": [
    {
     "name": "stdout",
     "output_type": "stream",
     "text": [
      "Sample output matches test output.\n"
     ]
    }
   ],
   "source": [
    "%%bash\n",
    "if [ $(md5sum Sample_Output.txt|cut -f1 -d' ') == $(md5sum Test_Output.txt|cut -f1 -d' ') ]\n",
    "then\n",
    "    echo Sample output matches test output.\n",
    "else\n",
    "    echo Sample output does not Match test output.\n",
    "fi"
   ]
  },
  {
   "cell_type": "markdown",
   "metadata": {},
   "source": [
    "# Downloaded Dataset"
   ]
  },
  {
   "cell_type": "code",
   "execution_count": 8,
   "metadata": {
    "collapsed": false
   },
   "outputs": [
    {
     "name": "stdout",
     "output_type": "stream",
     "text": [
      "AGTTTGGTAGTAGTTCGAATGATGACCCGGCCGACGGGAGACTTACCTGGAGAACCCCACTGTCCGTCTAGCTCACTTCGGTGGCCCACAGCTGCGGAGGCAGATCCTCTAAGGATCATTCTGCGGCGGTCCAAAATTCCATCATCATTCAATTGACTTTCGAATGCGGGCGCGTGCAGTAAGATAGATTGTGTAACAGCTACCACGGGTGGCGGGCTCTGCAGACGTCAGGTTTTGATGCTGTTGCTTCACGTGCCAGGGCTTGCGCCCGGATAGGTCCTGCATTCCCACTTGGCTATTATACATCGGCCCCTCAATATGCTATAAGTATTTCTGGCTTTTTGAAGAATGGGTTTTAACAGAAGGACGCGGGGATAAATGTACTTTGCAACCTTGTGTTAGACCTAGGTATGGGACGTGACATGGATCTATCCGCTCCGCGCTTTATAACTATGCACCGCCACGGCGATAGCGCCCGTTGGGAGTCTGGTCACTCTATTGAGTACCAGGAAGTGGACGCGTTACCTTTATCTTTTACCTGTTGTATCAGTAGGACTGGCAGTAGGGAAAATCTCAGATTTTCTAGCTAGAGACAACTGAATCGACAGGTGAATTAGGAGGCTTTGAGTCTTGATGACTAATACTTTCGGGCCCAGTGGTGCCTAGTGAATTTAGCGCGGGTCAGATTCTACCCATCATTAATGATCCTGAACAACGATGCCTCCAGGAACTAGCATACTTTCCTGTTATACTAAAAGAAAGGTCTGCTTGCCCAAGTGACTTTACGCATTGACCGTACCCCACATAAATCGG\n"
     ]
    }
   ],
   "source": [
    "%%bash\n",
    "cp ~/Downloads/rosalind_revc.txt ./\n",
    "cat rosalind_revc.txt"
   ]
  },
  {
   "cell_type": "markdown",
   "metadata": {},
   "source": [
    "# Solution to Downloaded Dataset"
   ]
  },
  {
   "cell_type": "code",
   "execution_count": 9,
   "metadata": {
    "collapsed": false
   },
   "outputs": [],
   "source": [
    "reverseComplementDNAFromFileToFile(\"rosalind_revc.txt\", \"Solution_Output.txt\")"
   ]
  },
  {
   "cell_type": "code",
   "execution_count": 10,
   "metadata": {
    "collapsed": false
   },
   "outputs": [
    {
     "name": "stdout",
     "output_type": "stream",
     "text": [
      "CCGATTTATGTGGGGTACGGTCAATGCGTAAAGTCACTTGGGCAAGCAGACCTTTCTTTTAGTATAACAGGAAAGTATGCTAGTTCCTGGAGGCATCGTTGTTCAGGATCATTAATGATGGGTAGAATCTGACCCGCGCTAAATTCACTAGGCACCACTGGGCCCGAAAGTATTAGTCATCAAGACTCAAAGCCTCCTAATTCACCTGTCGATTCAGTTGTCTCTAGCTAGAAAATCTGAGATTTTCCCTACTGCCAGTCCTACTGATACAACAGGTAAAAGATAAAGGTAACGCGTCCACTTCCTGGTACTCAATAGAGTGACCAGACTCCCAACGGGCGCTATCGCCGTGGCGGTGCATAGTTATAAAGCGCGGAGCGGATAGATCCATGTCACGTCCCATACCTAGGTCTAACACAAGGTTGCAAAGTACATTTATCCCCGCGTCCTTCTGTTAAAACCCATTCTTCAAAAAGCCAGAAATACTTATAGCATATTGAGGGGCCGATGTATAATAGCCAAGTGGGAATGCAGGACCTATCCGGGCGCAAGCCCTGGCACGTGAAGCAACAGCATCAAAACCTGACGTCTGCAGAGCCCGCCACCCGTGGTAGCTGTTACACAATCTATCTTACTGCACGCGCCCGCATTCGAAAGTCAATTGAATGATGATGGAATTTTGGACCGCCGCAGAATGATCCTTAGAGGATCTGCCTCCGCAGCTGTGGGCCACCGAAGTGAGCTAGACGGACAGTGGGGTTCTCCAGGTAAGTCTCCCGTCGGCCGGGTCATCATTCGAACTACTACCAAACT\n"
     ]
    }
   ],
   "source": [
    "%%bash\n",
    "cat Solution_Output.txt"
   ]
  }
 ],
 "metadata": {
  "kernelspec": {
   "display_name": "Python 3",
   "language": "python",
   "name": "python3"
  },
  "language_info": {
   "codemirror_mode": {
    "name": "ipython",
    "version": 3
   },
   "file_extension": ".py",
   "mimetype": "text/x-python",
   "name": "python",
   "nbconvert_exporter": "python",
   "pygments_lexer": "ipython3",
   "version": "3.5.2"
  }
 },
 "nbformat": 4,
 "nbformat_minor": 1
}
