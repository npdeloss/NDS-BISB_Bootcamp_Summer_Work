{
 "cells": [
  {
   "cell_type": "markdown",
   "metadata": {},
   "source": [
    "# Mendel's First Law\n",
    "**Given:** Three positive integers *k*, *m*, and *n*, representing a population containing *k* + *m* + *n* organisms: *k* individuals are homozygous dominant for a factor, *m* are heterozygous, and *n* are homozygous recessive.\n",
    "\n",
    "**Return:** The probability that two randomly selected mating organisms will produce an individual possessing a dominant allele (and thus displaying the dominant phenotype). Assume that any two organisms can mate."
   ]
  },
  {
   "cell_type": "markdown",
   "metadata": {},
   "source": [
    "# Sample Dataset"
   ]
  },
  {
   "cell_type": "code",
   "execution_count": 1,
   "metadata": {
    "collapsed": false
   },
   "outputs": [
    {
     "name": "stdout",
     "output_type": "stream",
     "text": [
      "Overwriting Sample_Dataset.txt\n"
     ]
    }
   ],
   "source": [
    "%%file Sample_Dataset.txt\n",
    "2 2 2\n",
    "\n"
   ]
  },
  {
   "cell_type": "markdown",
   "metadata": {},
   "source": [
    "# Sample Output"
   ]
  },
  {
   "cell_type": "code",
   "execution_count": 2,
   "metadata": {
    "collapsed": false
   },
   "outputs": [
    {
     "name": "stdout",
     "output_type": "stream",
     "text": [
      "Overwriting Sample_Output.txt\n"
     ]
    }
   ],
   "source": [
    "%%file Sample_Output.txt\n",
    "0.78333\n",
    "\n"
   ]
  },
  {
   "cell_type": "markdown",
   "metadata": {},
   "source": [
    "# Solution"
   ]
  },
  {
   "cell_type": "code",
   "execution_count": 3,
   "metadata": {
    "collapsed": false
   },
   "outputs": [],
   "source": [
    "import itertools\n",
    "def getDominantPhenotypeProbability(k, m, n):\n",
    "    \"Given three positive integers k, m, and n, representing a population containing k + m + n organisms: k individuals are homozygous dominant for a factor, m are heterozygous, and n are homozygous recessive, return the probability that two randomly selected mating organisms will produce an individual possessing a dominant allele (and thus displaying the dominant phenotype). Assume that any two organisms can mate.\"\n",
    "    t = k + m + n\n",
    "    probability_from_FFxFF = 1.00 * (k * (k - 1)) / (t * (t - 1))\n",
    "    probability_from_FFxFf = 1.00 * (2 * k * m) / (t * (t - 1))\n",
    "    probability_from_FFxff = 1.00 * (2 * k * n) / (t * (t - 1))\n",
    "    probability_from_FfxFf = 0.75 * (m * (m - 1)) / (t * (t - 1))\n",
    "    probability_from_Ffxff = 0.50 * (2 * m * n) / (t * (t - 1))\n",
    "    #probability_from_ffxff = 0 * (n * (n - 1)) / (t * (t - 1))\n",
    "    \n",
    "    dominant_phenotype_probability = probability_from_FFxFF + probability_from_FFxFf + probability_from_FFxff + probability_from_FfxFf + probability_from_Ffxff\n",
    "    \n",
    "    return dominant_phenotype_probability\n",
    "\n",
    "def getDominantPhenotypeProbabilityFromFileToFile(input_file_path, output_file_path):\n",
    "    \"Wraps getDominantPhenotypeProbability to read from input_file_path and write to output_file_path\"\n",
    "    \n",
    "    input_file = open(input_file_path,'r')\n",
    "    output_file = open(output_file_path,'w')\n",
    "    \n",
    "    input_string = input_file.read()\n",
    "    input_string_values = map(int, input_string.split())\n",
    "    \n",
    "    dominant_phenotype_probability = getDominantPhenotypeProbability(*input_string_values)\n",
    "    \n",
    "    output_file.write(\"%f\\n\" % dominant_phenotype_probability)\n",
    "    \n",
    "    input_file.close()\n",
    "    output_file.close()\n",
    "    \n",
    "    return\n"
   ]
  },
  {
   "cell_type": "markdown",
   "metadata": {},
   "source": [
    "# Test Solution"
   ]
  },
  {
   "cell_type": "code",
   "execution_count": 4,
   "metadata": {
    "collapsed": false
   },
   "outputs": [],
   "source": [
    "getDominantPhenotypeProbabilityFromFileToFile(\"Sample_Dataset.txt\", \"Test_Output.txt\")"
   ]
  },
  {
   "cell_type": "code",
   "execution_count": 5,
   "metadata": {
    "collapsed": false
   },
   "outputs": [
    {
     "name": "stdout",
     "output_type": "stream",
     "text": [
      "Sample_Output.txt\n",
      "9b525445757b3430ca8676e0e57ef5e1  /dev/fd/63\n",
      "0.78333\n"
     ]
    }
   ],
   "source": [
    "%%bash\n",
    "echo Sample_Output.txt\n",
    "md5sum <(sort Sample_Output.txt)\n",
    "cat Sample_Output.txt"
   ]
  },
  {
   "cell_type": "code",
   "execution_count": 6,
   "metadata": {
    "collapsed": false
   },
   "outputs": [
    {
     "name": "stdout",
     "output_type": "stream",
     "text": [
      "Test_Output.txt\n",
      "51a5be36d42c8e835e5282e63b8cd7f2  /dev/fd/63\n",
      "0.783333\n"
     ]
    }
   ],
   "source": [
    "%%bash\n",
    "echo Test_Output.txt\n",
    "md5sum <(sort Test_Output.txt)\n",
    "cat Test_Output.txt"
   ]
  },
  {
   "cell_type": "markdown",
   "metadata": {},
   "source": [
    "# Downloaded Dataset"
   ]
  },
  {
   "cell_type": "code",
   "execution_count": 7,
   "metadata": {
    "collapsed": false
   },
   "outputs": [
    {
     "name": "stdout",
     "output_type": "stream",
     "text": [
      "16 29 26\n"
     ]
    }
   ],
   "source": [
    "%%bash\n",
    "cp ~/Downloads/rosalind_iprb.txt ./\n",
    "cat rosalind_iprb.txt"
   ]
  },
  {
   "cell_type": "markdown",
   "metadata": {},
   "source": [
    "# Solution to Downloaded Dataset"
   ]
  },
  {
   "cell_type": "code",
   "execution_count": 8,
   "metadata": {
    "collapsed": false
   },
   "outputs": [],
   "source": [
    "getDominantPhenotypeProbabilityFromFileToFile(\"rosalind_iprb.txt\", \"Solution_Output.txt\")"
   ]
  },
  {
   "cell_type": "code",
   "execution_count": 9,
   "metadata": {
    "collapsed": false
   },
   "outputs": [
    {
     "name": "stdout",
     "output_type": "stream",
     "text": [
      "0.676660\n"
     ]
    }
   ],
   "source": [
    "%%bash\n",
    "cat Solution_Output.txt"
   ]
  }
 ],
 "metadata": {
  "kernelspec": {
   "display_name": "Python 3",
   "language": "python",
   "name": "python3"
  },
  "language_info": {
   "codemirror_mode": {
    "name": "ipython",
    "version": 3
   },
   "file_extension": ".py",
   "mimetype": "text/x-python",
   "name": "python",
   "nbconvert_exporter": "python",
   "pygments_lexer": "ipython3",
   "version": "3.5.2"
  }
 },
 "nbformat": 4,
 "nbformat_minor": 1
}
