{
 "cells": [
  {
   "cell_type": "markdown",
   "metadata": {},
   "source": [
    "# Transcribing DNA into RNA\n",
    "**Given:** A DNA string *t* having length at most 1000 nt.\n",
    "\n",
    "**Return:** The transcribed RNA string of *t*."
   ]
  },
  {
   "cell_type": "markdown",
   "metadata": {},
   "source": [
    "# Sample Dataset"
   ]
  },
  {
   "cell_type": "code",
   "execution_count": 1,
   "metadata": {
    "collapsed": false
   },
   "outputs": [
    {
     "name": "stdout",
     "output_type": "stream",
     "text": [
      "Overwriting Sample_Dataset.txt\n"
     ]
    }
   ],
   "source": [
    "%%file Sample_Dataset.txt\n",
    "GATGGAACTTGACTACGTAAATT\n",
    "\n"
   ]
  },
  {
   "cell_type": "markdown",
   "metadata": {},
   "source": [
    "# Sample Output"
   ]
  },
  {
   "cell_type": "code",
   "execution_count": 2,
   "metadata": {
    "collapsed": false
   },
   "outputs": [
    {
     "name": "stdout",
     "output_type": "stream",
     "text": [
      "Overwriting Sample_Output.txt\n"
     ]
    }
   ],
   "source": [
    "%%file Sample_Output.txt\n",
    "GAUGGAACUUGACUACGUAAAUU\n",
    "\n"
   ]
  },
  {
   "cell_type": "markdown",
   "metadata": {},
   "source": [
    "# Solution"
   ]
  },
  {
   "cell_type": "code",
   "execution_count": 3,
   "metadata": {
    "collapsed": false
   },
   "outputs": [],
   "source": [
    "def transcribeDNAToRNA(input_string):\n",
    "    \"Given a DNA string t having length at most 1000 nt, return the transcribed RNA string of t.\"\n",
    "    \n",
    "    output_string = input_string.replace(\"T\",\"U\")\n",
    "    \n",
    "    return output_string\n",
    "\n",
    "def transcribeDNAToRNAFromFileToFile(input_file_path, output_file_path):\n",
    "    \"Wraps transcribeDNAToRNA to read from input_file_path and write to output_file_path\"\n",
    "    \n",
    "    input_file = open(input_file_path,'r')\n",
    "    output_file = open(output_file_path,'w')\n",
    "    \n",
    "    input_string = input_file.read().strip()\n",
    "    output_string = transcribeDNAToRNA(input_string)\n",
    "    \n",
    "    output_file.write(\"%s\\n\" % output_string)\n",
    "    \n",
    "    input_file.close()\n",
    "    output_file.close()\n",
    "    \n",
    "    return\n"
   ]
  },
  {
   "cell_type": "markdown",
   "metadata": {},
   "source": [
    "# Test Solution"
   ]
  },
  {
   "cell_type": "code",
   "execution_count": 4,
   "metadata": {
    "collapsed": false
   },
   "outputs": [],
   "source": [
    "transcribeDNAToRNAFromFileToFile(\"Sample_Dataset.txt\", \"Test_Output.txt\")"
   ]
  },
  {
   "cell_type": "code",
   "execution_count": 5,
   "metadata": {
    "collapsed": false
   },
   "outputs": [
    {
     "name": "stdout",
     "output_type": "stream",
     "text": [
      "Sample_Output.txt\n",
      "16320842855a9da507fd1f68859c28ae  Sample_Output.txt\n",
      "GAUGGAACUUGACUACGUAAAUU\n"
     ]
    }
   ],
   "source": [
    "%%bash\n",
    "echo Sample_Output.txt\n",
    "md5sum Sample_Output.txt\n",
    "cat Sample_Output.txt"
   ]
  },
  {
   "cell_type": "code",
   "execution_count": 6,
   "metadata": {
    "collapsed": false
   },
   "outputs": [
    {
     "name": "stdout",
     "output_type": "stream",
     "text": [
      "Test_Output.txt\n",
      "16320842855a9da507fd1f68859c28ae  Test_Output.txt\n",
      "GAUGGAACUUGACUACGUAAAUU\n"
     ]
    }
   ],
   "source": [
    "%%bash\n",
    "echo Test_Output.txt\n",
    "md5sum Test_Output.txt\n",
    "cat Test_Output.txt"
   ]
  },
  {
   "cell_type": "code",
   "execution_count": 7,
   "metadata": {
    "collapsed": false
   },
   "outputs": [
    {
     "name": "stdout",
     "output_type": "stream",
     "text": [
      "Sample output matches test output.\n"
     ]
    }
   ],
   "source": [
    "%%bash\n",
    "if [ $(md5sum Sample_Output.txt|cut -f1 -d' ') == $(md5sum Test_Output.txt|cut -f1 -d' ') ]\n",
    "then\n",
    "    echo Sample output matches test output.\n",
    "else\n",
    "    echo Sample output does not Match test output.\n",
    "fi"
   ]
  },
  {
   "cell_type": "markdown",
   "metadata": {},
   "source": [
    "# Downloaded Dataset"
   ]
  },
  {
   "cell_type": "code",
   "execution_count": 8,
   "metadata": {
    "collapsed": false
   },
   "outputs": [
    {
     "name": "stdout",
     "output_type": "stream",
     "text": [
      "GCAATCCCTTACCCTGGAGCACCCGTTGACGGTTGAATTCGCTGTGCTGCGAGAAACGATCGCCACCTATCGACGCCGCATGAGTATGATCCCGAATCGCTAGTCGGTTACAACTTGAGCGACTTCAACGGAAGTACCTCACAAAAACGAAACGCTTACAAGACCAGTCCCTAACATGTTCCCGGAAAGATCTTGCGCGTGTGCGCATTCCGTCGATCCCTGTGCAAGGCCTATTTTCTCACGAATACGCACGTTACCATGTTGCTCTCCTGGGGGATGGTCTTGGTGAATTTAAGAAATACGTGGCATCCCCGTCAAGGTCGAATGAAATCAATAGTCCTCCCTCCCCGTTCGTTCGACGGTCGCCCGTATACCGCCTAGCGATGCGTGAGGCGTACGGAGGTACTGAGGGTAAATAAAGGTCTCACTGACGGAAATGCGATGCGTCAATAATGGGCGCGTCGGTGTAGAGTGCGTTAATTACTTATCGAGAGCAACTGGGAGGACCCTGGTGAGTTCAGTGCATTCTTGGCTGTTTTGTGACTCTCAGCCTGCCAGAAAGGCATAGATAATTGTCGAACAAGTCCAACTTTCATCCGATTTTCTTTCTTTGCCCTCACCCGCTCCTCTGGATATGGATAAGCACAGACCATGAAATCTCGTACGGAAGAAACGCGACCTCGGCATTTATTGGACTAAGGTTATACGGTGCAGTAGCTACACATAGGACCCTTGATCTAGGGCCTATAACCAGTAAGAGTAGGGAAGATGTAGGTAATCGATGAGTCGTAACCCAATGTATACTTGGTTTTTCAGTATCCATAACTCTGTCGGCGAATGCGGGAGTCGGCCCAAAGAAAGCTTTGGCAGTGCAGAGGTCTTTCTTTGCGGCTTCTAGACCGTTCCTTGGA\n"
     ]
    }
   ],
   "source": [
    "%%bash\n",
    "cp ~/Downloads/rosalind_rna.txt ./\n",
    "cat rosalind_rna.txt"
   ]
  },
  {
   "cell_type": "markdown",
   "metadata": {},
   "source": [
    "# Solution to Downloaded Dataset"
   ]
  },
  {
   "cell_type": "code",
   "execution_count": 9,
   "metadata": {
    "collapsed": false
   },
   "outputs": [],
   "source": [
    "transcribeDNAToRNAFromFileToFile(\"rosalind_rna.txt\", \"Solution_Output.txt\")"
   ]
  },
  {
   "cell_type": "code",
   "execution_count": 10,
   "metadata": {
    "collapsed": false
   },
   "outputs": [
    {
     "name": "stdout",
     "output_type": "stream",
     "text": [
      "GCAAUCCCUUACCCUGGAGCACCCGUUGACGGUUGAAUUCGCUGUGCUGCGAGAAACGAUCGCCACCUAUCGACGCCGCAUGAGUAUGAUCCCGAAUCGCUAGUCGGUUACAACUUGAGCGACUUCAACGGAAGUACCUCACAAAAACGAAACGCUUACAAGACCAGUCCCUAACAUGUUCCCGGAAAGAUCUUGCGCGUGUGCGCAUUCCGUCGAUCCCUGUGCAAGGCCUAUUUUCUCACGAAUACGCACGUUACCAUGUUGCUCUCCUGGGGGAUGGUCUUGGUGAAUUUAAGAAAUACGUGGCAUCCCCGUCAAGGUCGAAUGAAAUCAAUAGUCCUCCCUCCCCGUUCGUUCGACGGUCGCCCGUAUACCGCCUAGCGAUGCGUGAGGCGUACGGAGGUACUGAGGGUAAAUAAAGGUCUCACUGACGGAAAUGCGAUGCGUCAAUAAUGGGCGCGUCGGUGUAGAGUGCGUUAAUUACUUAUCGAGAGCAACUGGGAGGACCCUGGUGAGUUCAGUGCAUUCUUGGCUGUUUUGUGACUCUCAGCCUGCCAGAAAGGCAUAGAUAAUUGUCGAACAAGUCCAACUUUCAUCCGAUUUUCUUUCUUUGCCCUCACCCGCUCCUCUGGAUAUGGAUAAGCACAGACCAUGAAAUCUCGUACGGAAGAAACGCGACCUCGGCAUUUAUUGGACUAAGGUUAUACGGUGCAGUAGCUACACAUAGGACCCUUGAUCUAGGGCCUAUAACCAGUAAGAGUAGGGAAGAUGUAGGUAAUCGAUGAGUCGUAACCCAAUGUAUACUUGGUUUUUCAGUAUCCAUAACUCUGUCGGCGAAUGCGGGAGUCGGCCCAAAGAAAGCUUUGGCAGUGCAGAGGUCUUUCUUUGCGGCUUCUAGACCGUUCCUUGGA\n"
     ]
    }
   ],
   "source": [
    "%%bash\n",
    "cat Solution_Output.txt"
   ]
  }
 ],
 "metadata": {
  "kernelspec": {
   "display_name": "Python 3",
   "language": "python",
   "name": "python3"
  },
  "language_info": {
   "codemirror_mode": {
    "name": "ipython",
    "version": 3
   },
   "file_extension": ".py",
   "mimetype": "text/x-python",
   "name": "python",
   "nbconvert_exporter": "python",
   "pygments_lexer": "ipython3",
   "version": "3.5.2"
  }
 },
 "nbformat": 4,
 "nbformat_minor": 1
}
