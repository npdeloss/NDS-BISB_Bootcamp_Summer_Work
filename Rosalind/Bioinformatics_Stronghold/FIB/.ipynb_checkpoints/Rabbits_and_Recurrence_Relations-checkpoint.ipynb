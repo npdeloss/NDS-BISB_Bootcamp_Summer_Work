{
 "cells": [
  {
   "cell_type": "markdown",
   "metadata": {},
   "source": [
    "# Rabbits and Recurrence Relations\n",
    "**Given:** Positive integers n<=40 and k<=5.\n",
    "\n",
    "**Return:** The total number of rabbit pairs that will be present after *n* months if we begin with 1 pair and in each generation, every pair of reproduction-age rabbits produces a litter of *k* rabbit pairs (instead of only 1 pair)."
   ]
  },
  {
   "cell_type": "markdown",
   "metadata": {},
   "source": [
    "# Sample Dataset"
   ]
  },
  {
   "cell_type": "code",
   "execution_count": 1,
   "metadata": {
    "collapsed": false
   },
   "outputs": [
    {
     "name": "stdout",
     "output_type": "stream",
     "text": [
      "Overwriting Sample_Dataset.txt\n"
     ]
    }
   ],
   "source": [
    "%%file Sample_Dataset.txt\n",
    "5 3\n",
    "\n"
   ]
  },
  {
   "cell_type": "markdown",
   "metadata": {},
   "source": [
    "# Sample Output"
   ]
  },
  {
   "cell_type": "code",
   "execution_count": 2,
   "metadata": {
    "collapsed": false
   },
   "outputs": [
    {
     "name": "stdout",
     "output_type": "stream",
     "text": [
      "Overwriting Sample_Output.txt\n"
     ]
    }
   ],
   "source": [
    "%%file Sample_Output.txt\n",
    "19\n",
    "\n"
   ]
  },
  {
   "cell_type": "markdown",
   "metadata": {},
   "source": [
    "# Solution"
   ]
  },
  {
   "cell_type": "code",
   "execution_count": 3,
   "metadata": {
    "collapsed": false
   },
   "outputs": [],
   "source": [
    "def countTotalNumberOfRabbitPairs(n, k):\n",
    "    \"Given positive integers n<=40 and k<=5, return the total number of rabbit pairs that will be present after *n* months if we begin with 1 pair and in each generation, every pair of reproduction-age rabbits produces a litter of *k* rabbit pairs (instead of only 1 pair).\"\n",
    "    \n",
    "    number_of_rabbit_pairs_in_each_generation = [1, 1]\n",
    "    \n",
    "    while( len(number_of_rabbit_pairs_in_each_generation) < n ):\n",
    "        number_of_old_rabbits = number_of_rabbit_pairs_in_each_generation[-1]\n",
    "        number_of_young_rabbits = k * number_of_rabbit_pairs_in_each_generation[-2]\n",
    "        number_of_rabbit_pairs_in_each_generation.append(number_of_old_rabbits + number_of_young_rabbits)\n",
    "    \n",
    "    final_number_of_rabbit_pairs = number_of_rabbit_pairs_in_each_generation[-1]\n",
    "    \n",
    "    return final_number_of_rabbit_pairs\n",
    "\n",
    "def countTotalNumberOfRabbitPairsFromFileToFile(input_file_path, output_file_path):\n",
    "    \"Wraps countTotalNumberOfRabbitPairs to read from input_file_path and write to output_file_path\"\n",
    "    \n",
    "    input_file = open(input_file_path,'r')\n",
    "    output_file = open(output_file_path,'w')\n",
    "    \n",
    "    input_string = input_file.read()\n",
    "    input_string_values = input_string.split()\n",
    "    n = int(input_string_values[0])\n",
    "    k = int(input_string_values[1])\n",
    "    output_string = \"%d\" % countTotalNumberOfRabbitPairs(n, k)\n",
    "    \n",
    "    output_file.write(\"%s\\n\" % output_string)\n",
    "    \n",
    "    input_file.close()\n",
    "    output_file.close()\n",
    "    \n",
    "    return\n"
   ]
  },
  {
   "cell_type": "markdown",
   "metadata": {},
   "source": [
    "# Test Solution"
   ]
  },
  {
   "cell_type": "code",
   "execution_count": 4,
   "metadata": {
    "collapsed": false
   },
   "outputs": [],
   "source": [
    "countTotalNumberOfRabbitPairsFromFileToFile(\"Sample_Dataset.txt\", \"Test_Output.txt\")"
   ]
  },
  {
   "cell_type": "code",
   "execution_count": 5,
   "metadata": {
    "collapsed": false
   },
   "outputs": [
    {
     "name": "stdout",
     "output_type": "stream",
     "text": [
      "Sample_Output.txt\n",
      "3bb50ff8eeb7ad116724b56a820139fa  Sample_Output.txt\n",
      "19\n"
     ]
    }
   ],
   "source": [
    "%%bash\n",
    "echo Sample_Output.txt\n",
    "md5sum Sample_Output.txt\n",
    "cat Sample_Output.txt"
   ]
  },
  {
   "cell_type": "code",
   "execution_count": 6,
   "metadata": {
    "collapsed": false
   },
   "outputs": [
    {
     "name": "stdout",
     "output_type": "stream",
     "text": [
      "Test_Output.txt\n",
      "3bb50ff8eeb7ad116724b56a820139fa  Test_Output.txt\n",
      "19\n"
     ]
    }
   ],
   "source": [
    "%%bash\n",
    "echo Test_Output.txt\n",
    "md5sum Test_Output.txt\n",
    "cat Test_Output.txt"
   ]
  },
  {
   "cell_type": "code",
   "execution_count": 7,
   "metadata": {
    "collapsed": false
   },
   "outputs": [
    {
     "name": "stdout",
     "output_type": "stream",
     "text": [
      "Sample output matches test output.\n"
     ]
    }
   ],
   "source": [
    "%%bash\n",
    "if [ $(md5sum Sample_Output.txt|cut -f1 -d' ') == $(md5sum Test_Output.txt|cut -f1 -d' ') ]\n",
    "then\n",
    "    echo Sample output matches test output.\n",
    "else\n",
    "    echo Sample output does not Match test output.\n",
    "fi"
   ]
  },
  {
   "cell_type": "markdown",
   "metadata": {},
   "source": [
    "# Downloaded Dataset"
   ]
  },
  {
   "cell_type": "code",
   "execution_count": 8,
   "metadata": {
    "collapsed": false
   },
   "outputs": [
    {
     "name": "stdout",
     "output_type": "stream",
     "text": [
      "28 5\n"
     ]
    }
   ],
   "source": [
    "%%bash\n",
    "cp ~/Downloads/rosalind_fib.txt ./\n",
    "cat rosalind_fib.txt"
   ]
  },
  {
   "cell_type": "markdown",
   "metadata": {},
   "source": [
    "# Solution to Downloaded Dataset"
   ]
  },
  {
   "cell_type": "code",
   "execution_count": 9,
   "metadata": {
    "collapsed": false
   },
   "outputs": [],
   "source": [
    "countTotalNumberOfRabbitPairsFromFileToFile(\"rosalind_fib.txt\", \"Solution_Output.txt\")"
   ]
  },
  {
   "cell_type": "code",
   "execution_count": 10,
   "metadata": {
    "collapsed": false
   },
   "outputs": [
    {
     "name": "stdout",
     "output_type": "stream",
     "text": [
      "662854323131\n"
     ]
    }
   ],
   "source": [
    "%%bash\n",
    "cat Solution_Output.txt"
   ]
  }
 ],
 "metadata": {
  "kernelspec": {
   "display_name": "Python 3",
   "language": "python",
   "name": "python3"
  },
  "language_info": {
   "codemirror_mode": {
    "name": "ipython",
    "version": 3
   },
   "file_extension": ".py",
   "mimetype": "text/x-python",
   "name": "python",
   "nbconvert_exporter": "python",
   "pygments_lexer": "ipython3",
   "version": "3.5.2"
  }
 },
 "nbformat": 4,
 "nbformat_minor": 1
}
